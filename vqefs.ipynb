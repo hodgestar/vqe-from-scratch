{
 "cells": [
  {
   "cell_type": "markdown",
   "metadata": {},
   "source": [
    "# Variational Quantum Eigensolver from Scratch\n",
    "\n",
    "Implement a simple VQE library from scracth using QuTiP Qobjs and circuits and then use it to approximate the lowest eigenstate of a two qubit Hamiltonian (H) defined below.\n",
    "\n",
    "Library features and limitations:\n",
    "\n",
    "* Can decompose arbitrary Hamiltonians into Pauli operators (system resources allowing).\n",
    "* Can only build Pauli measurement operators for one and two qubit operators (needs extending to support arbitrary\n",
    "  size operators)."
   ]
  },
  {
   "cell_type": "code",
   "execution_count": 1,
   "metadata": {},
   "outputs": [],
   "source": [
    "import logging\n",
    "\n",
    "logging.basicConfig(level=logging.INFO)"
   ]
  },
  {
   "cell_type": "code",
   "execution_count": 2,
   "metadata": {},
   "outputs": [],
   "source": [
    "%matplotlib inline\n",
    "\n",
    "import math\n",
    "import warnings\n",
    "\n",
    "import qutip\n",
    "import scipy.optimize\n",
    "from qutip.qip.circuit import QubitCircuit\n",
    "\n",
    "import vqefs.pauli\n",
    "import vqefs.vqe\n",
    "\n",
    "# ignore deprecation warning from the lastest ipykernel release -- hopefully the rest of the\n",
    "# jupyter notebook system will catch up soon.\n",
    "warnings.filterwarnings(\"ignore\", message=r\"`should_run_async`\")"
   ]
  },
  {
   "cell_type": "markdown",
   "metadata": {},
   "source": [
    "# Define H"
   ]
  },
  {
   "cell_type": "code",
   "execution_count": 3,
   "metadata": {},
   "outputs": [
    {
     "data": {
      "text/latex": [
       "Quantum object: dims = [[2, 2], [2, 2]], shape = (4, 4), type = oper, isherm = True\\begin{equation*}\\left(\\begin{array}{*{11}c}1.0 & 0.0 & 0.0 & 0.0\\\\0.0 & 0.0 & -1.0 & 0.0\\\\0.0 & -1.0 & 0.0 & 0.0\\\\0.0 & 0.0 & 0.0 & 1.0\\\\\\end{array}\\right)\\end{equation*}"
      ],
      "text/plain": [
       "Quantum object: dims = [[2, 2], [2, 2]], shape = (4, 4), type = oper, isherm = True\n",
       "Qobj data =\n",
       "[[ 1.  0.  0.  0.]\n",
       " [ 0.  0. -1.  0.]\n",
       " [ 0. -1.  0.  0.]\n",
       " [ 0.  0.  0.  1.]]"
      ]
     },
     "execution_count": 3,
     "metadata": {},
     "output_type": "execute_result"
    }
   ],
   "source": [
    "H = qutip.Qobj([\n",
    "    [1, 0, 0, 0],\n",
    "    [0, 0, -1, 0],\n",
    "    [0, -1, 0, 0],\n",
    "    [0, 0, 0, 1],\n",
    "], dims=[[2, 2], [2, 2]])\n",
    "H"
   ]
  },
  {
   "cell_type": "markdown",
   "metadata": {},
   "source": [
    "# Decompose H into a sum of Pauli matrix tensor products\n",
    "\n",
    "* The function vqefs.pauli.decompose(...) returns the coefficients of each term.\n",
    "* Terms with zero coefficients are excluded.\n",
    "* The notation \"XX\" is short for \"X ⊗ X\"."
   ]
  },
  {
   "cell_type": "code",
   "execution_count": 4,
   "metadata": {},
   "outputs": [
    {
     "data": {
      "text/plain": [
       "{'II': 0.5, 'ZZ': 0.5, 'XX': -0.5, 'YY': -0.5}"
      ]
     },
     "execution_count": 4,
     "metadata": {},
     "output_type": "execute_result"
    }
   ],
   "source": [
    "h_coeffs = vqefs.pauli.decompose(H)\n",
    "h_coeffs"
   ]
  },
  {
   "cell_type": "markdown",
   "metadata": {},
   "source": [
    "# Construct measurement circuits for each Pauli term\n",
    "\n",
    "* And display each measurement circuit so that we can inspect them for correctness. :)"
   ]
  },
  {
   "cell_type": "code",
   "execution_count": 5,
   "metadata": {},
   "outputs": [],
   "source": [
    "h_measurement_circuits = {\n",
    "    indices: vqefs.pauli.measurement_circuit(indices) for indices in h_coeffs\n",
    "}"
   ]
  },
  {
   "cell_type": "code",
   "execution_count": 6,
   "metadata": {},
   "outputs": [
    {
     "data": {
      "image/png": "[encoded data removed]",
      "text/plain": [
       "<qutip.qip.circuit.QubitCircuit at 0x7f5ff3fc4ac0>"
      ]
     },
     "execution_count": 6,
     "metadata": {},
     "output_type": "execute_result"
    }
   ],
   "source": [
    "h_measurement_circuits[\"II\"]"
   ]
  },
  {
   "cell_type": "code",
   "execution_count": 7,
   "metadata": {},
   "outputs": [
    {
     "data": {
      "image/png": "[encoded data removed]",
      "text/plain": [
       "<qutip.qip.circuit.QubitCircuit at 0x7f5ff3fc4910>"
      ]
     },
     "execution_count": 7,
     "metadata": {},
     "output_type": "execute_result"
    }
   ],
   "source": [
    "h_measurement_circuits[\"ZZ\"]"
   ]
  },
  {
   "cell_type": "code",
   "execution_count": 8,
   "metadata": {},
   "outputs": [
    {
     "data": {
      "image/png": "[encoded data removed]",
      "text/plain": [
       "<qutip.qip.circuit.QubitCircuit at 0x7f5ff3fc4af0>"
      ]
     },
     "execution_count": 8,
     "metadata": {},
     "output_type": "execute_result"
    }
   ],
   "source": [
    "h_measurement_circuits[\"XX\"]"
   ]
  },
  {
   "cell_type": "code",
   "execution_count": 9,
   "metadata": {},
   "outputs": [
    {
     "data": {
      "image/png": "[encoded data removed]",
      "text/plain": [
       "<qutip.qip.circuit.QubitCircuit at 0x7f5ff3fc49d0>"
      ]
     },
     "execution_count": 9,
     "metadata": {},
     "output_type": "execute_result"
    }
   ],
   "source": [
    "h_measurement_circuits[\"YY\"]"
   ]
  },
  {
   "cell_type": "markdown",
   "metadata": {},
   "source": [
    "# Define the form of the states to optimize over (i.e. the ansatz)\n",
    "\n",
    "* And display an example of the circuit to check that it looks correct. :)"
   ]
  },
  {
   "cell_type": "code",
   "execution_count": 10,
   "metadata": {},
   "outputs": [
    {
     "data": {
      "image/png": "[encoded data removed]",
      "text/plain": [
       "<qutip.qip.circuit.QubitCircuit at 0x7f5ff3fdbeb0>"
      ]
     },
     "execution_count": 10,
     "metadata": {},
     "output_type": "execute_result"
    }
   ],
   "source": [
    "def h_ansatz(theta):\n",
    "    qc = QubitCircuit(N=2)\n",
    "\n",
    "    qc.add_gate(\"SNOT\", targets=0)\n",
    "    qc.add_gate(\"CNOT\", controls=0, targets=1)\n",
    "    qc.add_gate(\"RX\", targets=0, arg_value=theta)\n",
    "\n",
    "    #qc.add_gate(\"RX\", targets=0, arg_value=theta)\n",
    "    #qc.add_gate(\"CNOT\", controls=0, targets=1)\n",
    "    #qc.add_gate(\"SNOT\", targets=0)\n",
    "    \n",
    "    return qc\n",
    "    \n",
    "h_ansatz(math.pi / 2)"
   ]
  },
  {
   "cell_type": "code",
   "execution_count": 11,
   "metadata": {},
   "outputs": [
    {
     "data": {
      "text/latex": [
       "Quantum object: dims = [[2, 2], [1, 1]], shape = (4, 1), type = ket\\begin{equation*}\\left(\\begin{array}{*{11}c}1.0\\\\0.0\\\\0.0\\\\0.0\\\\\\end{array}\\right)\\end{equation*}"
      ],
      "text/plain": [
       "Quantum object: dims = [[2, 2], [1, 1]], shape = (4, 1), type = ket\n",
       "Qobj data =\n",
       "[[1.]\n",
       " [0.]\n",
       " [0.]\n",
       " [0.]]"
      ]
     },
     "execution_count": 11,
     "metadata": {},
     "output_type": "execute_result"
    }
   ],
   "source": [
    "initial_state = qutip.ket(\"00\")\n",
    "initial_state"
   ]
  },
  {
   "cell_type": "markdown",
   "metadata": {},
   "source": [
    "# Estimate the minimum energy"
   ]
  },
  {
   "cell_type": "code",
   "execution_count": 12,
   "metadata": {},
   "outputs": [
    {
     "data": {
      "text/plain": [
       "      fun: -0.9999999999999994\n",
       " hess_inv: <1x1 LbfgsInvHessProduct with dtype=float64>\n",
       "      jac: array([-1.11022303e-08])\n",
       "  message: b'CONVERGENCE: NORM_OF_PROJECTED_GRADIENT_<=_PGTOL'\n",
       "     nfev: 8\n",
       "      nit: 3\n",
       "     njev: 4\n",
       "   status: 0\n",
       "  success: True\n",
       "        x: array([3.14159265])"
      ]
     },
     "execution_count": 12,
     "metadata": {},
     "output_type": "execute_result"
    }
   ],
   "source": [
    "# set to analytical=True to use exact outcome probabilitites, set to False to simulate outcomes\n",
    "analytical = True\n",
    "\n",
    "def h_energy(x):\n",
    "    theta, = x\n",
    "    ansatz_circuit = h_ansatz(theta)\n",
    "    energy = vqefs.vqe.estimate_energy(\n",
    "        h_coeffs, h_measurement_circuits,\n",
    "        initial_state, ansatz_circuit,\n",
    "        runs=200, analytical=analytical\n",
    "    )\n",
    "    return energy\n",
    "\n",
    "result = scipy.optimize.minimize(\n",
    "    h_energy, x0=(math.pi / 4),\n",
    "    bounds=[(-math.pi, math.pi)],\n",
    "    options={\"maxiter\": 5, \"disp\": True},\n",
    ")\n",
    "result"
   ]
  },
  {
   "cell_type": "code",
   "execution_count": 13,
   "metadata": {},
   "outputs": [
    {
     "name": "stdout",
     "output_type": "stream",
     "text": [
      "minimum energy: -0.9999999999999994\n",
      "best theta: [3.14159265]\n"
     ]
    }
   ],
   "source": [
    "print(f\"minimum energy: {result.fun}\")\n",
    "print(f\"best theta: {result.x}\")"
   ]
  },
  {
   "cell_type": "code",
   "execution_count": 14,
   "metadata": {},
   "outputs": [
    {
     "data": {
      "text/latex": [
       "Quantum object: dims = [[2, 2], [1, 1]], shape = (4, 1), type = ket\\begin{equation*}\\left(\\begin{array}{*{11}c}0.0\\\\-0.707j\\\\-0.707j\\\\0.0\\\\\\end{array}\\right)\\end{equation*}"
      ],
      "text/plain": [
       "Quantum object: dims = [[2, 2], [1, 1]], shape = (4, 1), type = ket\n",
       "Qobj data =\n",
       "[[0.+0.j        ]\n",
       " [0.-0.70710678j]\n",
       " [0.-0.70710678j]\n",
       " [0.+0.j        ]]"
      ]
     },
     "execution_count": 14,
     "metadata": {},
     "output_type": "execute_result"
    }
   ],
   "source": [
    "# display final state\n",
    "state, _prob = h_ansatz(result.x[0]).run(initial_state)\n",
    "state"
   ]
  },
  {
   "cell_type": "markdown",
   "metadata": {},
   "source": [
    "# Compare with the analytical result"
   ]
  },
  {
   "cell_type": "code",
   "execution_count": 15,
   "metadata": {},
   "outputs": [
    {
     "data": {
      "text/plain": [
       "(array([-1.,  1.,  1.,  1.]),\n",
       " array([Quantum object: dims = [[2, 2], [1, 1]], shape = (4, 1), type = ket\n",
       " Qobj data =\n",
       " [[0.        ]\n",
       "  [0.70710678]\n",
       "  [0.70710678]\n",
       "  [0.        ]],\n",
       "        Quantum object: dims = [[2, 2], [1, 1]], shape = (4, 1), type = ket\n",
       " Qobj data =\n",
       " [[1.]\n",
       "  [0.]\n",
       "  [0.]\n",
       "  [0.]],\n",
       "        Quantum object: dims = [[2, 2], [1, 1]], shape = (4, 1), type = ket\n",
       " Qobj data =\n",
       " [[ 0.        ]\n",
       "  [-0.70710678]\n",
       "  [ 0.70710678]\n",
       "  [ 0.        ]],\n",
       "        Quantum object: dims = [[2, 2], [1, 1]], shape = (4, 1), type = ket\n",
       " Qobj data =\n",
       " [[0.]\n",
       "  [0.]\n",
       "  [0.]\n",
       "  [1.]]], dtype=object))"
      ]
     },
     "execution_count": 15,
     "metadata": {},
     "output_type": "execute_result"
    }
   ],
   "source": [
    "H.eigenstates()"
   ]
  },
  {
   "cell_type": "markdown",
   "metadata": {},
   "source": [
    "# One qubit example for testing\n",
    "\n",
    "* Test a simple single qubit example to sanity check the algorithm."
   ]
  },
  {
   "cell_type": "code",
   "execution_count": 16,
   "metadata": {},
   "outputs": [
    {
     "data": {
      "text/plain": [
       "{'I': 1, 'X': 2, 'Y': 3, 'Z': 4}"
      ]
     },
     "execution_count": 16,
     "metadata": {},
     "output_type": "execute_result"
    }
   ],
   "source": [
    "h1d_coeffs = {\"I\": 1, \"X\": 2, \"Y\": 3, \"Z\": 4}\n",
    "h1d_coeffs"
   ]
  },
  {
   "cell_type": "code",
   "execution_count": 17,
   "metadata": {},
   "outputs": [
    {
     "data": {
      "text/latex": [
       "Quantum object: dims = [[2], [2]], shape = (2, 2), type = oper, isherm = True\\begin{equation*}\\left(\\begin{array}{*{11}c}5.0 & (2.0-3.0j)\\\\(2.0+3.0j) & -3.0\\\\\\end{array}\\right)\\end{equation*}"
      ],
      "text/plain": [
       "Quantum object: dims = [[2], [2]], shape = (2, 2), type = oper, isherm = True\n",
       "Qobj data =\n",
       "[[ 5.+0.j  2.-3.j]\n",
       " [ 2.+3.j -3.+0.j]]"
      ]
     },
     "execution_count": 17,
     "metadata": {},
     "output_type": "execute_result"
    }
   ],
   "source": [
    "h1d = vqefs.pauli.compose(h1d_coeffs)\n",
    "h1d"
   ]
  },
  {
   "cell_type": "code",
   "execution_count": 18,
   "metadata": {},
   "outputs": [],
   "source": [
    "h1d_measurement_circuits = {\n",
    "    indices: vqefs.pauli.measurement_circuit(indices) for indices in h1d_coeffs\n",
    "}"
   ]
  },
  {
   "cell_type": "code",
   "execution_count": 19,
   "metadata": {},
   "outputs": [
    {
     "data": {
      "image/png": "[encoded data removed]",
      "text/plain": [
       "<qutip.qip.circuit.QubitCircuit at 0x7f5ff3f82460>"
      ]
     },
     "execution_count": 19,
     "metadata": {},
     "output_type": "execute_result"
    }
   ],
   "source": [
    "def h1d_ansatz(theta1, theta2):\n",
    "    qc = QubitCircuit(N=1)\n",
    "    qc.add_gate(\"RX\", targets=0, arg_value=theta1)\n",
    "    qc.add_gate(\"RY\", targets=0, arg_value=theta2)\n",
    "    return qc\n",
    "    \n",
    "h1d_ansatz(math.pi / 2, math.pi / 2)"
   ]
  },
  {
   "cell_type": "code",
   "execution_count": 20,
   "metadata": {},
   "outputs": [
    {
     "data": {
      "text/latex": [
       "Quantum object: dims = [[2], [1]], shape = (2, 1), type = ket\\begin{equation*}\\left(\\begin{array}{*{11}c}1.0\\\\0.0\\\\\\end{array}\\right)\\end{equation*}"
      ],
      "text/plain": [
       "Quantum object: dims = [[2], [1]], shape = (2, 1), type = ket\n",
       "Qobj data =\n",
       "[[1.]\n",
       " [0.]]"
      ]
     },
     "execution_count": 20,
     "metadata": {},
     "output_type": "execute_result"
    }
   ],
   "source": [
    "initial_state = qutip.ket(\"0\")\n",
    "initial_state"
   ]
  },
  {
   "cell_type": "code",
   "execution_count": 21,
   "metadata": {},
   "outputs": [
    {
     "data": {
      "text/plain": [
       "      fun: -4.385164807129536\n",
       " hess_inv: <2x2 LbfgsInvHessProduct with dtype=float64>\n",
       "      jac: array([7.2830630e-06, 4.4408921e-07])\n",
       "  message: b'CONVERGENCE: NORM_OF_PROJECTED_GRADIENT_<=_PGTOL'\n",
       "     nfev: 21\n",
       "      nit: 5\n",
       "     njev: 7\n",
       "   status: 0\n",
       "  success: True\n",
       "        x: array([-0.59087139,  0.46364771])"
      ]
     },
     "execution_count": 21,
     "metadata": {},
     "output_type": "execute_result"
    }
   ],
   "source": [
    "# set to analytical=True to use exact outcome probabilitites, set to False to simulate outcomes\n",
    "analytical = True\n",
    "\n",
    "def h1d_energy(x):\n",
    "    theta1, theta2 = x\n",
    "    ansatz_circuit = h1d_ansatz(theta1, theta2)\n",
    "    energy = vqefs.vqe.estimate_energy(\n",
    "        h1d_coeffs, h1d_measurement_circuits,\n",
    "        initial_state, ansatz_circuit,\n",
    "        runs=200, analytical=analytical\n",
    "    )\n",
    "    return energy\n",
    "\n",
    "result = scipy.optimize.minimize(\n",
    "    h1d_energy, x0=(math.pi / 4, math.pi / 4),\n",
    "    bounds=[(-math.pi, math.pi), (-math.pi, math.pi)],\n",
    "    options={\"maxiter\": 10, \"disp\": True},\n",
    ")\n",
    "result"
   ]
  },
  {
   "cell_type": "code",
   "execution_count": 22,
   "metadata": {},
   "outputs": [
    {
     "name": "stdout",
     "output_type": "stream",
     "text": [
      "minimum energy: -4.385164807129536\n",
      "best theta: [-0.59087139  0.46364771]\n"
     ]
    }
   ],
   "source": [
    "print(f\"minimum energy: {result.fun}\")\n",
    "print(f\"best theta: {result.x}\")"
   ]
  },
  {
   "cell_type": "code",
   "execution_count": 23,
   "metadata": {},
   "outputs": [
    {
     "data": {
      "text/latex": [
       "Quantum object: dims = [[2], [1]], shape = (2, 1), type = ket\\begin{equation*}\\left(\\begin{array}{*{11}c}(0.931-0.067j)\\\\(0.220+0.283j)\\\\\\end{array}\\right)\\end{equation*}"
      ],
      "text/plain": [
       "Quantum object: dims = [[2], [1]], shape = (2, 1), type = ket\n",
       "Qobj data =\n",
       "[[0.93108333-0.06689412j]\n",
       " [0.21979901+0.28336796j]]"
      ]
     },
     "execution_count": 23,
     "metadata": {},
     "output_type": "execute_result"
    }
   ],
   "source": [
    "# display final state\n",
    "h1d_ansatz(*result.x).run(initial_state)[0]"
   ]
  },
  {
   "cell_type": "code",
   "execution_count": 24,
   "metadata": {},
   "outputs": [
    {
     "data": {
      "text/plain": [
       "(array([-4.38516481,  6.38516481]),\n",
       " array([Quantum object: dims = [[2], [1]], shape = (2, 1), type = ket\n",
       " Qobj data =\n",
       " [[-0.35862142+0.j        ]\n",
       "  [ 0.51780325+0.77670488j]],\n",
       "        Quantum object: dims = [[2], [1]], shape = (2, 1), type = ket\n",
       " Qobj data =\n",
       " [[-0.93348309+0.j        ]\n",
       "  [-0.19892737-0.29839106j]]], dtype=object))"
      ]
     },
     "execution_count": 24,
     "metadata": {},
     "output_type": "execute_result"
    }
   ],
   "source": [
    "h1d.eigenstates()"
   ]
  },
  {
   "cell_type": "markdown",
   "metadata": {},
   "source": [
    "# Two qubit example for testing\n",
    "\n",
    "* Test a simple two qubit example to sanity check the algorithm."
   ]
  },
  {
   "cell_type": "code",
   "execution_count": 25,
   "metadata": {},
   "outputs": [
    {
     "data": {
      "text/plain": [
       "{'II': 1, 'XX': 2, 'YY': 3, 'ZZ': 4}"
      ]
     },
     "execution_count": 25,
     "metadata": {},
     "output_type": "execute_result"
    }
   ],
   "source": [
    "h2d_coeffs = {\"II\": 1, \"XX\": 2, \"YY\": 3, \"ZZ\": 4}\n",
    "h2d_coeffs"
   ]
  },
  {
   "cell_type": "code",
   "execution_count": 26,
   "metadata": {},
   "outputs": [
    {
     "data": {
      "text/latex": [
       "Quantum object: dims = [[2, 2], [2, 2]], shape = (4, 4), type = oper, isherm = True\\begin{equation*}\\left(\\begin{array}{*{11}c}5.0 & 0.0 & 0.0 & -1.0\\\\0.0 & -3.0 & 5.0 & 0.0\\\\0.0 & 5.0 & -3.0 & 0.0\\\\-1.0 & 0.0 & 0.0 & 5.0\\\\\\end{array}\\right)\\end{equation*}"
      ],
      "text/plain": [
       "Quantum object: dims = [[2, 2], [2, 2]], shape = (4, 4), type = oper, isherm = True\n",
       "Qobj data =\n",
       "[[ 5.  0.  0. -1.]\n",
       " [ 0. -3.  5.  0.]\n",
       " [ 0.  5. -3.  0.]\n",
       " [-1.  0.  0.  5.]]"
      ]
     },
     "execution_count": 26,
     "metadata": {},
     "output_type": "execute_result"
    }
   ],
   "source": [
    "h2d = vqefs.pauli.compose(h2d_coeffs)\n",
    "h2d"
   ]
  },
  {
   "cell_type": "code",
   "execution_count": 27,
   "metadata": {},
   "outputs": [],
   "source": [
    "h2d_measurement_circuits = {\n",
    "    indices: vqefs.pauli.measurement_circuit(indices) for indices in h2d_coeffs\n",
    "}"
   ]
  },
  {
   "cell_type": "code",
   "execution_count": 28,
   "metadata": {},
   "outputs": [
    {
     "data": {
      "image/png": "[encoded data removed]",
      "text/plain": [
       "<qutip.qip.circuit.QubitCircuit at 0x7f5ff3fbdd30>"
      ]
     },
     "execution_count": 28,
     "metadata": {},
     "output_type": "execute_result"
    }
   ],
   "source": [
    "def h2d_ansatz(theta1, theta2, theta3, theta4):\n",
    "    \"\"\" A fairly arbitrary 2-qubit ansatz. \"\"\"\n",
    "    qc = QubitCircuit(N=2)\n",
    "    qc.add_gate(\"RY\", targets=0, arg_value=theta1)    \n",
    "    qc.add_gate(\"CNOT\", controls=1, targets=0)\n",
    "    qc.add_gate(\"RY\", targets=1, arg_value=theta2)\n",
    "    qc.add_gate(\"RZ\", targets=0, arg_value=theta3)\n",
    "    qc.add_gate(\"CNOT\", controls=0, targets=1)\n",
    "    qc.add_gate(\"RY\", targets=1, arg_value=theta4)\n",
    "    return qc\n",
    "    \n",
    "h2d_ansatz(math.pi / 2, math.pi / 2, math.pi / 2, math.pi / 2)"
   ]
  },
  {
   "cell_type": "code",
   "execution_count": 29,
   "metadata": {},
   "outputs": [
    {
     "data": {
      "text/latex": [
       "Quantum object: dims = [[2, 2], [1, 1]], shape = (4, 1), type = ket\\begin{equation*}\\left(\\begin{array}{*{11}c}1.0\\\\0.0\\\\0.0\\\\0.0\\\\\\end{array}\\right)\\end{equation*}"
      ],
      "text/plain": [
       "Quantum object: dims = [[2, 2], [1, 1]], shape = (4, 1), type = ket\n",
       "Qobj data =\n",
       "[[1.]\n",
       " [0.]\n",
       " [0.]\n",
       " [0.]]"
      ]
     },
     "execution_count": 29,
     "metadata": {},
     "output_type": "execute_result"
    }
   ],
   "source": [
    "initial_state = qutip.ket(\"00\")\n",
    "initial_state"
   ]
  },
  {
   "cell_type": "code",
   "execution_count": 30,
   "metadata": {
    "scrolled": false
   },
   "outputs": [
    {
     "data": {
      "text/plain": [
       "      fun: -7.9999999998905125\n",
       " hess_inv: <4x4 LbfgsInvHessProduct with dtype=float64>\n",
       "      jac: array([ 1.17239552e-05,  2.23820962e-05, -2.45137244e-05, -1.77635685e-07])\n",
       "  message: b'CONVERGENCE: REL_REDUCTION_OF_F_<=_FACTR*EPSMCH'\n",
       "     nfev: 130\n",
       "      nit: 15\n",
       "     njev: 26\n",
       "   status: 0\n",
       "  success: True\n",
       "        x: array([ 1.57079864e+00,  3.19713855e-06, -4.91044301e-06,  3.14159265e+00])"
      ]
     },
     "execution_count": 30,
     "metadata": {},
     "output_type": "execute_result"
    }
   ],
   "source": [
    "# set to analytical=True to use exact outcome probabilitites, set to False to simulate outcomes\n",
    "analytical = True\n",
    "\n",
    "def h2d_energy(x):\n",
    "    theta1, theta2, theta3, theta4 = x\n",
    "    ansatz_circuit = h2d_ansatz(theta1, theta2, theta3, theta4)\n",
    "    energy = vqefs.vqe.estimate_energy(\n",
    "        h2d_coeffs, h2d_measurement_circuits,\n",
    "        initial_state, ansatz_circuit,\n",
    "        runs=200, analytical=analytical\n",
    "    )\n",
    "    return energy\n",
    "\n",
    "result = scipy.optimize.minimize(\n",
    "    h2d_energy, x0=(math.pi / 4, math.pi / 4, math.pi / 4, math.pi / 4),\n",
    "    bounds=[(-math.pi, math.pi)] * 4,\n",
    "    options={\"maxiter\": 20, \"disp\": True},\n",
    ")\n",
    "result"
   ]
  },
  {
   "cell_type": "code",
   "execution_count": 31,
   "metadata": {},
   "outputs": [
    {
     "name": "stdout",
     "output_type": "stream",
     "text": [
      "minimum energy: -7.9999999998905125\n",
      "best theta: [ 1.57079864e+00  3.19713855e-06 -4.91044301e-06  3.14159265e+00]\n"
     ]
    }
   ],
   "source": [
    "print(f\"minimum energy: {result.fun}\")\n",
    "print(f\"best theta: {result.x}\")"
   ]
  },
  {
   "cell_type": "code",
   "execution_count": 32,
   "metadata": {},
   "outputs": [
    {
     "data": {
      "text/latex": [
       "Quantum object: dims = [[2, 2], [1, 1]], shape = (4, 1), type = ket\\begin{equation*}\\left(\\begin{array}{*{11}c}(-1.130\\times10^{-06}-2.775\\times10^{-12}j)\\\\(0.707+1.736\\times10^{-06}j)\\\\(-0.707+1.736\\times10^{-06}j)\\\\(1.130\\times10^{-06}-2.775\\times10^{-12}j)\\\\\\end{array}\\right)\\end{equation*}"
      ],
      "text/plain": [
       "Quantum object: dims = [[2, 2], [1, 1]], shape = (4, 1), type = ket\n",
       "Qobj data =\n",
       "[[-1.13035786e-06-2.77527894e-12j]\n",
       " [ 7.07105962e-01+1.73610176e-06j]\n",
       " [-7.07107601e-01+1.73610579e-06j]\n",
       " [ 1.13036048e-06-2.77528537e-12j]]"
      ]
     },
     "execution_count": 32,
     "metadata": {},
     "output_type": "execute_result"
    }
   ],
   "source": [
    "# display final state\n",
    "h2d_ansatz(*result.x).run(initial_state)[0]"
   ]
  },
  {
   "cell_type": "code",
   "execution_count": 33,
   "metadata": {},
   "outputs": [
    {
     "data": {
      "text/plain": [
       "(array([-8.,  2.,  4.,  6.]),\n",
       " array([Quantum object: dims = [[2, 2], [1, 1]], shape = (4, 1), type = ket\n",
       " Qobj data =\n",
       " [[ 0.        ]\n",
       "  [-0.70710678]\n",
       "  [ 0.70710678]\n",
       "  [ 0.        ]],\n",
       "        Quantum object: dims = [[2, 2], [1, 1]], shape = (4, 1), type = ket\n",
       " Qobj data =\n",
       " [[0.        ]\n",
       "  [0.70710678]\n",
       "  [0.70710678]\n",
       "  [0.        ]],\n",
       "        Quantum object: dims = [[2, 2], [1, 1]], shape = (4, 1), type = ket\n",
       " Qobj data =\n",
       " [[0.70710678]\n",
       "  [0.        ]\n",
       "  [0.        ]\n",
       "  [0.70710678]],\n",
       "        Quantum object: dims = [[2, 2], [1, 1]], shape = (4, 1), type = ket\n",
       " Qobj data =\n",
       " [[-0.70710678]\n",
       "  [ 0.        ]\n",
       "  [ 0.        ]\n",
       "  [ 0.70710678]]], dtype=object))"
      ]
     },
     "execution_count": 33,
     "metadata": {},
     "output_type": "execute_result"
    }
   ],
   "source": [
    "h2d.eigenstates()"
   ]
  },
  {
   "cell_type": "code",
   "execution_count": null,
   "metadata": {},
   "outputs": [],
   "source": []
  }
 ],
 "metadata": {
  "jupytext": {
   "formats": "ipynb,md"
  },
  "kernelspec": {
   "display_name": "Python 3",
   "language": "python",
   "name": "python3"
  },
  "language_info": {
   "codemirror_mode": {
    "name": "ipython",
    "version": 3
   },
   "file_extension": ".py",
   "mimetype": "text/x-python",
   "name": "python",
   "nbconvert_exporter": "python",
   "pygments_lexer": "ipython3",
   "version": "3.8.2"
  }
 },
 "nbformat": 4,
 "nbformat_minor": 4
}
