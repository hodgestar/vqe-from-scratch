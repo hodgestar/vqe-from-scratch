{
 "cells": [
  {
   "cell_type": "markdown",
   "metadata": {},
   "source": [
    "# Variational Quantum Eigensolver from Scratch\n",
    "\n",
    "Implement a simple VQE library from scracth using QuTiP Qobjs and QubitCircuits and then use it to approximate the lowest eigenstate of a two qubit Hamiltonian (H) defined below.\n",
    "\n",
    "**Library features**:\n",
    "\n",
    "* Can decompose Hamiltonians into Pauli operators.\n",
    "* Can re-compose Pauli decompositions into Hamiltonians. \n",
    "* Can build Pauli measurement operators for one and two qubit operators (needs extending to support arbitrary\n",
    "  size operators).\n",
    "* Can estimate the energy of a state for a given (decomposed) Hamiltonian either by:\n",
    "\n",
    "  * simulation (mutiple calls to `QubitCircuit.run`)\n",
    "  * analytically (a single call to `QubitCircuit.run_statistics`).\n",
    "* Extensive unit tests for `vqefs.pauli.decompose` using [hypothesis](https://hypothesis.readthedocs.io/).\n",
    "  \n",
    "**Future work**:\n",
    "\n",
    "* It would be nice to run the circuit on a QuTiP Processor instead (i.e. a simulator for a real quantum device)\n",
    "  but this requires adding support for circuits with measurement to the Processors (likely not too hard, but\n",
    "  not done yet).\n",
    "* Extend the extensive unit tests to the rest of the library.\n",
    "  \n",
    "**Note**:\n",
    "\n",
    "* This notebook requires the QuTiP master branch for QubitCircuit measurement support. Once QuTiP 4.6 is released\n",
    "  it should be possilbe to run in on QuTiP 4.6.\n",
    "* Full disclosure -- I implemented some of the intial parts of QuTiP's measurement support.\n",
    "\n",
    "**References**:\n",
    "\n",
    "* [A variational eigenvalue solver on a quantum processor](https://arxiv.org/pdf/1304.3061.pdf>)\n",
    "* [Microsoft Quantum, Pauli Measurements](https://docs.microsoft.com/en-us/quantum/concepts/pauli-measurements>)\n"
   ]
  },
  {
   "cell_type": "markdown",
   "metadata": {},
   "source": [
    "## Contents:\n",
    "\n",
    "<ol>\n",
    "    <li><a href=\"#screening-task-4\">Screening Task 4</a>\n",
    "        <ol style=\"list-style-type: decimal;\">\n",
    "            <li><a href=\"#define-h\">Define H</a></li>\n",
    "            <li><a href=\"#decompose-h\">Decompose H into a sum of Pauli matrix tensor products</a></li>\n",
    "            <li><a href=\"#construct-measurements\">Construct measurement circuits for each Pauli term</a></li>\n",
    "            <li><a href=\"#define-ansatz\">Define the ansatz</a></li>\n",
    "            <li><a href=\"#estimate-energy\">Estimate the minimum energy</a></li>\n",
    "            <li><a href=\"#compare-energy\">Compare with the analytical result</a></li>\n",
    "        </ol>\n",
    "    </li>\n",
    "    <li><a href=\"#one-qubit-test\">One qubit example for testing</a></li>\n",
    "    <li><a href=\"#two-qubit-test\">Two qubit example for testing</a></li>\n",
    "</ol>"
   ]
  },
  {
   "cell_type": "code",
   "execution_count": 1,
   "metadata": {},
   "outputs": [],
   "source": [
    "import logging\n",
    "\n",
    "logging.basicConfig(level=logging.INFO)"
   ]
  },
  {
   "cell_type": "code",
   "execution_count": 2,
   "metadata": {},
   "outputs": [],
   "source": [
    "%matplotlib inline\n",
    "\n",
    "import math\n",
    "import warnings\n",
    "\n",
    "import qutip\n",
    "import scipy.optimize\n",
    "from qutip.qip.circuit import QubitCircuit\n",
    "\n",
    "import vqefs.pauli\n",
    "import vqefs.vqe\n",
    "\n",
    "# ignore deprecation warning from the lastest ipykernel release -- hopefully the rest of the\n",
    "# jupyter notebook system will catch up soon.\n",
    "warnings.filterwarnings(\"ignore\", message=r\"`should_run_async`\")"
   ]
  },
  {
   "cell_type": "markdown",
   "metadata": {},
   "source": [
    "# 1. Screening Task 4 <a class=\"anchor\" id=\"screening-task-4\"></a>\n",
    "\n",
    "<hr/>\n",
    "\n",
    "Find the lowest eigenvalue of the matix H (defined below) using VQE-like circuits, created by yourself from scratch."
   ]
  },
  {
   "cell_type": "markdown",
   "metadata": {},
   "source": [
    "## 1.1. Define H <a class=\"anchor\" id=\"define-h\"></a>"
   ]
  },
  {
   "cell_type": "code",
   "execution_count": 3,
   "metadata": {},
   "outputs": [
    {
     "data": {
      "text/latex": [
       "Quantum object: dims = [[2, 2], [2, 2]], shape = (4, 4), type = oper, isherm = True\\begin{equation*}\\left(\\begin{array}{*{11}c}1.0 & 0.0 & 0.0 & 0.0\\\\0.0 & 0.0 & -1.0 & 0.0\\\\0.0 & -1.0 & 0.0 & 0.0\\\\0.0 & 0.0 & 0.0 & 1.0\\\\\\end{array}\\right)\\end{equation*}"
      ],
      "text/plain": [
       "Quantum object: dims = [[2, 2], [2, 2]], shape = (4, 4), type = oper, isherm = True\n",
       "Qobj data =\n",
       "[[ 1.  0.  0.  0.]\n",
       " [ 0.  0. -1.  0.]\n",
       " [ 0. -1.  0.  0.]\n",
       " [ 0.  0.  0.  1.]]"
      ]
     },
     "execution_count": 3,
     "metadata": {},
     "output_type": "execute_result"
    }
   ],
   "source": [
    "H = qutip.Qobj([\n",
    "    [1, 0, 0, 0],\n",
    "    [0, 0, -1, 0],\n",
    "    [0, -1, 0, 0],\n",
    "    [0, 0, 0, 1],\n",
    "], dims=[[2, 2], [2, 2]])\n",
    "H"
   ]
  },
  {
   "cell_type": "markdown",
   "metadata": {},
   "source": [
    "## 1.2. Decompose H into a sum of Pauli matrix tensor products <a class=\"anchor\" id=\"decompose-h\"></a>\n",
    "\n",
    "* The function vqefs.pauli.decompose(...) returns the coefficients of each term.\n",
    "* Terms with zero coefficients are excluded.\n",
    "* The notation \"XX\" is short for \"X ⊗ X\"."
   ]
  },
  {
   "cell_type": "code",
   "execution_count": 4,
   "metadata": {},
   "outputs": [
    {
     "data": {
      "text/plain": [
       "{'II': 0.5, 'ZZ': 0.5, 'XX': -0.5, 'YY': -0.5}"
      ]
     },
     "execution_count": 4,
     "metadata": {},
     "output_type": "execute_result"
    }
   ],
   "source": [
    "h_coeffs = vqefs.pauli.decompose(H)\n",
    "h_coeffs"
   ]
  },
  {
   "cell_type": "markdown",
   "metadata": {},
   "source": [
    "## 1.3. Construct measurement circuits for each Pauli term <a class=\"anchor\" id=\"construct-measurements\"></a>\n",
    "\n",
    "* And display each measurement circuit so that we can inspect them for correctness. :)"
   ]
  },
  {
   "cell_type": "code",
   "execution_count": 5,
   "metadata": {},
   "outputs": [],
   "source": [
    "h_measurement_circuits = {\n",
    "    indices: vqefs.pauli.measurement_circuit(indices) for indices in h_coeffs\n",
    "}"
   ]
  },
  {
   "cell_type": "code",
   "execution_count": 6,
   "metadata": {},
   "outputs": [],
   "source": [
    "assert h_measurement_circuits[\"II\"] is None"
   ]
  },
  {
   "cell_type": "code",
   "execution_count": 7,
   "metadata": {},
   "outputs": [
    {
     "data": {
      "image/png": "[encoded data removed]",
      "text/plain": [
       "<qutip.qip.circuit.QubitCircuit at 0x7f70bc510100>"
      ]
     },
     "execution_count": 7,
     "metadata": {},
     "output_type": "execute_result"
    }
   ],
   "source": [
    "h_measurement_circuits[\"ZZ\"]"
   ]
  },
  {
   "cell_type": "code",
   "execution_count": 8,
   "metadata": {},
   "outputs": [
    {
     "data": {
      "image/png": "[encoded data removed]",
      "text/plain": [
       "<qutip.qip.circuit.QubitCircuit at 0x7f70bc510970>"
      ]
     },
     "execution_count": 8,
     "metadata": {},
     "output_type": "execute_result"
    }
   ],
   "source": [
    "h_measurement_circuits[\"XX\"]"
   ]
  },
  {
   "cell_type": "code",
   "execution_count": 9,
   "metadata": {},
   "outputs": [
    {
     "data": {
      "image/png": "[encoded data removed]",
      "text/plain": [
       "<qutip.qip.circuit.QubitCircuit at 0x7f70ad5957f0>"
      ]
     },
     "execution_count": 9,
     "metadata": {},
     "output_type": "execute_result"
    }
   ],
   "source": [
    "h_measurement_circuits[\"YY\"]"
   ]
  },
  {
   "cell_type": "markdown",
   "metadata": {},
   "source": [
    "## 1.4. Define the ansatz <a class=\"anchor\" id=\"define-ansatz\"></a>\n",
    "\n",
    "* And display an example of the ansatz circuit to check that it looks correct. :)\n",
    "* And display the initial state that will be the input to the ansatz circuit."
   ]
  },
  {
   "cell_type": "code",
   "execution_count": 10,
   "metadata": {},
   "outputs": [
    {
     "data": {
      "image/png": "[encoded data removed]",
      "text/plain": [
       "<qutip.qip.circuit.QubitCircuit at 0x7f70ad5b1d60>"
      ]
     },
     "execution_count": 10,
     "metadata": {},
     "output_type": "execute_result"
    }
   ],
   "source": [
    "def h_ansatz(theta):\n",
    "    \"\"\" Apply H_0, CNOT_10 and RX_0(theta). \"\"\"\n",
    "    qc = QubitCircuit(N=2)\n",
    "    qc.add_gate(\"SNOT\", targets=0)\n",
    "    qc.add_gate(\"CNOT\", controls=0, targets=1)\n",
    "    qc.add_gate(\"RX\", targets=0, arg_value=theta)\n",
    "    return qc\n",
    "    \n",
    "h_ansatz(math.pi / 2)"
   ]
  },
  {
   "cell_type": "code",
   "execution_count": 11,
   "metadata": {},
   "outputs": [
    {
     "data": {
      "text/latex": [
       "Quantum object: dims = [[2, 2], [1, 1]], shape = (4, 1), type = ket\\begin{equation*}\\left(\\begin{array}{*{11}c}1.0\\\\0.0\\\\0.0\\\\0.0\\\\\\end{array}\\right)\\end{equation*}"
      ],
      "text/plain": [
       "Quantum object: dims = [[2, 2], [1, 1]], shape = (4, 1), type = ket\n",
       "Qobj data =\n",
       "[[1.]\n",
       " [0.]\n",
       " [0.]\n",
       " [0.]]"
      ]
     },
     "execution_count": 11,
     "metadata": {},
     "output_type": "execute_result"
    }
   ],
   "source": [
    "h_initial_state = qutip.ket(\"00\")\n",
    "h_initial_state"
   ]
  },
  {
   "cell_type": "markdown",
   "metadata": {},
   "source": [
    "## 1.5. Estimate the minimum energy <a class=\"anchor\" id=\"estimate-energy\"></a>\n",
    "\n",
    "* Estimate the minimum energy using scipy.optimize's implementation of [BFGS](https://en.wikipedia.org/wiki/Broyden%E2%80%93Fletcher%E2%80%93Goldfarb%E2%80%93Shanno_algorithm) for bounded problems.\n",
    "* We define a function `h_energy` to optimize.\n",
    "\n",
    "  * This function calls `vqefs.vqe.estimate(..)` with the ansatz circuit and the decomposed Hamiltonian, H.\n",
    "* One can switch between analytical energy estimation and multiple shots by setting `analytical` to True or False.\n",
    "* One can adjust the number of shots (per Pauli decomposition term) by setting `shots`. More shots gives better\n",
    "  results but is much slower."
   ]
  },
  {
   "cell_type": "code",
   "execution_count": 12,
   "metadata": {},
   "outputs": [
    {
     "name": "stderr",
     "output_type": "stream",
     "text": [
      "INFO:vqefs.vqe:II: coeff: 0.5, energy: 1\n",
      "INFO:vqefs.vqe:ZZ: coeff: 0.5, energy: 0.707107, probabilities: (0.853553, 0.146447)\n",
      "INFO:vqefs.vqe:XX: coeff: -0.5, energy: 1, probabilities: (1, 0)\n",
      "INFO:vqefs.vqe:YY: coeff: -0.5, energy: -0.707107, probabilities: (0.146447, 0.853553)\n",
      "INFO:vqefs.vqe:II: coeff: 0.5, energy: 1\n",
      "INFO:vqefs.vqe:ZZ: coeff: 0.5, energy: 0.707107, probabilities: (0.853553, 0.146447)\n",
      "INFO:vqefs.vqe:XX: coeff: -0.5, energy: 1, probabilities: (1, 0)\n",
      "INFO:vqefs.vqe:YY: coeff: -0.5, energy: -0.707107, probabilities: (0.146447, 0.853553)\n",
      "INFO:vqefs.vqe:II: coeff: 0.5, energy: 1\n",
      "INFO:vqefs.vqe:ZZ: coeff: 0.5, energy: 0.0782114, probabilities: (0.539106, 0.460894)\n",
      "INFO:vqefs.vqe:XX: coeff: -0.5, energy: 1, probabilities: (1, 0)\n",
      "INFO:vqefs.vqe:YY: coeff: -0.5, energy: -0.0782114, probabilities: (0.460894, 0.539106)\n",
      "INFO:vqefs.vqe:II: coeff: 0.5, energy: 1\n",
      "INFO:vqefs.vqe:ZZ: coeff: 0.5, energy: 0.0782114, probabilities: (0.539106, 0.460894)\n",
      "INFO:vqefs.vqe:XX: coeff: -0.5, energy: 1, probabilities: (1, 0)\n",
      "INFO:vqefs.vqe:YY: coeff: -0.5, energy: -0.0782114, probabilities: (0.460894, 0.539106)\n",
      "INFO:vqefs.vqe:II: coeff: 0.5, energy: 1\n",
      "INFO:vqefs.vqe:ZZ: coeff: 0.5, energy: -0.79478, probabilities: (0.10261, 0.89739)\n",
      "INFO:vqefs.vqe:XX: coeff: -0.5, energy: 1, probabilities: (1, 0)\n",
      "INFO:vqefs.vqe:YY: coeff: -0.5, energy: 0.79478, probabilities: (0.89739, 0.10261)\n",
      "INFO:vqefs.vqe:II: coeff: 0.5, energy: 1\n",
      "INFO:vqefs.vqe:ZZ: coeff: 0.5, energy: -0.79478, probabilities: (0.10261, 0.89739)\n",
      "INFO:vqefs.vqe:XX: coeff: -0.5, energy: 1, probabilities: (1, 0)\n",
      "INFO:vqefs.vqe:YY: coeff: -0.5, energy: 0.79478, probabilities: (0.89739, 0.10261)\n",
      "INFO:vqefs.vqe:II: coeff: 0.5, energy: 1\n",
      "INFO:vqefs.vqe:ZZ: coeff: 0.5, energy: -1, probabilities: (0, 1)\n",
      "INFO:vqefs.vqe:XX: coeff: -0.5, energy: 1, probabilities: (1, 0)\n",
      "INFO:vqefs.vqe:YY: coeff: -0.5, energy: 1, probabilities: (1, 0)\n",
      "INFO:vqefs.vqe:II: coeff: 0.5, energy: 1\n",
      "INFO:vqefs.vqe:ZZ: coeff: 0.5, energy: -1, probabilities: (0, 1)\n",
      "INFO:vqefs.vqe:XX: coeff: -0.5, energy: 1, probabilities: (1, 0)\n",
      "INFO:vqefs.vqe:YY: coeff: -0.5, energy: 1, probabilities: (1, 0)\n"
     ]
    },
    {
     "data": {
      "text/plain": [
       "      fun: -0.9999999999999994\n",
       " hess_inv: <1x1 LbfgsInvHessProduct with dtype=float64>\n",
       "      jac: array([-1.11022303e-08])\n",
       "  message: b'CONVERGENCE: NORM_OF_PROJECTED_GRADIENT_<=_PGTOL'\n",
       "     nfev: 8\n",
       "      nit: 3\n",
       "     njev: 4\n",
       "   status: 0\n",
       "  success: True\n",
       "        x: array([3.14159265])"
      ]
     },
     "execution_count": 12,
     "metadata": {},
     "output_type": "execute_result"
    }
   ],
   "source": [
    "# set to analytical=True to use exact outcome probabilitites, set to False to simulate outcomes\n",
    "analytical = True\n",
    "shots = 1000\n",
    "\n",
    "def h_energy(x):\n",
    "    \"\"\" The energy to minimise. The parameter x is passed by scipy.optimize and is a tuple\n",
    "        containing just the angle theta.\n",
    "    \"\"\"\n",
    "    theta, = x\n",
    "    ansatz_circuit = h_ansatz(theta)\n",
    "    energy = vqefs.vqe.estimate_energy(\n",
    "        h_coeffs, h_measurement_circuits,\n",
    "        h_initial_state, ansatz_circuit,\n",
    "        shots=shots, analytical=analytical\n",
    "    )\n",
    "    return energy\n",
    "\n",
    "result = scipy.optimize.minimize(\n",
    "    h_energy, x0=(math.pi / 4),\n",
    "    bounds=[(-math.pi, math.pi)],\n",
    "    options={\"maxiter\": 5, \"disp\": True},\n",
    ")\n",
    "result"
   ]
  },
  {
   "cell_type": "code",
   "execution_count": 13,
   "metadata": {},
   "outputs": [
    {
     "name": "stdout",
     "output_type": "stream",
     "text": [
      "minimum energy: -0.9999999999999994\n",
      "best theta: [3.14159265]\n"
     ]
    }
   ],
   "source": [
    "print(f\"minimum energy: {result.fun}\")\n",
    "print(f\"best theta: {result.x}\")"
   ]
  },
  {
   "cell_type": "code",
   "execution_count": 14,
   "metadata": {},
   "outputs": [
    {
     "data": {
      "text/latex": [
       "Quantum object: dims = [[2, 2], [1, 1]], shape = (4, 1), type = ket\\begin{equation*}\\left(\\begin{array}{*{11}c}0.0\\\\-0.707j\\\\-0.707j\\\\0.0\\\\\\end{array}\\right)\\end{equation*}"
      ],
      "text/plain": [
       "Quantum object: dims = [[2, 2], [1, 1]], shape = (4, 1), type = ket\n",
       "Qobj data =\n",
       "[[0.+0.j        ]\n",
       " [0.-0.70710678j]\n",
       " [0.-0.70710678j]\n",
       " [0.+0.j        ]]"
      ]
     },
     "execution_count": 14,
     "metadata": {},
     "output_type": "execute_result"
    }
   ],
   "source": [
    "# display final state\n",
    "state, _prob = h_ansatz(result.x[0]).run(h_initial_state)\n",
    "state"
   ]
  },
  {
   "cell_type": "markdown",
   "metadata": {},
   "source": [
    "## 1.6. Compare with the analytical result <a class=\"anchor\" id=\"compare-energy\"></a>"
   ]
  },
  {
   "cell_type": "code",
   "execution_count": 15,
   "metadata": {},
   "outputs": [
    {
     "data": {
      "text/plain": [
       "(array([-1.,  1.,  1.,  1.]),\n",
       " array([Quantum object: dims = [[2, 2], [1, 1]], shape = (4, 1), type = ket\n",
       " Qobj data =\n",
       " [[0.        ]\n",
       "  [0.70710678]\n",
       "  [0.70710678]\n",
       "  [0.        ]],\n",
       "        Quantum object: dims = [[2, 2], [1, 1]], shape = (4, 1), type = ket\n",
       " Qobj data =\n",
       " [[1.]\n",
       "  [0.]\n",
       "  [0.]\n",
       "  [0.]],\n",
       "        Quantum object: dims = [[2, 2], [1, 1]], shape = (4, 1), type = ket\n",
       " Qobj data =\n",
       " [[ 0.        ]\n",
       "  [-0.70710678]\n",
       "  [ 0.70710678]\n",
       "  [ 0.        ]],\n",
       "        Quantum object: dims = [[2, 2], [1, 1]], shape = (4, 1), type = ket\n",
       " Qobj data =\n",
       " [[0.]\n",
       "  [0.]\n",
       "  [0.]\n",
       "  [1.]]], dtype=object))"
      ]
     },
     "execution_count": 15,
     "metadata": {},
     "output_type": "execute_result"
    }
   ],
   "source": [
    "H.eigenstates()"
   ]
  },
  {
   "cell_type": "markdown",
   "metadata": {},
   "source": [
    "# 2. One qubit example for testing <a class=\"anchor\" id=\"one-qubit-test\"></a>\n",
    "\n",
    "<hr/>\n",
    "\n",
    "* Test a simple single qubit example to sanity check the procedure we're using.\n",
    "* Changing the Pauli coefficients can be useful when debugging."
   ]
  },
  {
   "cell_type": "code",
   "execution_count": 16,
   "metadata": {},
   "outputs": [
    {
     "data": {
      "text/plain": [
       "{'I': 1, 'X': 2, 'Y': 3, 'Z': 4}"
      ]
     },
     "execution_count": 16,
     "metadata": {},
     "output_type": "execute_result"
    }
   ],
   "source": [
    "h1d_coeffs = {\"I\": 1, \"X\": 2, \"Y\": 3, \"Z\": 4}\n",
    "h1d_coeffs"
   ]
  },
  {
   "cell_type": "code",
   "execution_count": 17,
   "metadata": {},
   "outputs": [
    {
     "data": {
      "text/latex": [
       "Quantum object: dims = [[2], [2]], shape = (2, 2), type = oper, isherm = True\\begin{equation*}\\left(\\begin{array}{*{11}c}5.0 & (2.0-3.0j)\\\\(2.0+3.0j) & -3.0\\\\\\end{array}\\right)\\end{equation*}"
      ],
      "text/plain": [
       "Quantum object: dims = [[2], [2]], shape = (2, 2), type = oper, isherm = True\n",
       "Qobj data =\n",
       "[[ 5.+0.j  2.-3.j]\n",
       " [ 2.+3.j -3.+0.j]]"
      ]
     },
     "execution_count": 17,
     "metadata": {},
     "output_type": "execute_result"
    }
   ],
   "source": [
    "h1d = vqefs.pauli.compose(h1d_coeffs)\n",
    "h1d"
   ]
  },
  {
   "cell_type": "code",
   "execution_count": 18,
   "metadata": {},
   "outputs": [],
   "source": [
    "h1d_measurement_circuits = {\n",
    "    indices: vqefs.pauli.measurement_circuit(indices) for indices in h1d_coeffs\n",
    "}"
   ]
  },
  {
   "cell_type": "code",
   "execution_count": 19,
   "metadata": {},
   "outputs": [],
   "source": [
    "assert h1d_measurement_circuits[\"I\"] is None"
   ]
  },
  {
   "cell_type": "code",
   "execution_count": 20,
   "metadata": {},
   "outputs": [
    {
     "data": {
      "image/png": "[encoded data removed]",
      "text/plain": [
       "<qutip.qip.circuit.QubitCircuit at 0x7f70ad5696d0>"
      ]
     },
     "execution_count": 20,
     "metadata": {},
     "output_type": "execute_result"
    }
   ],
   "source": [
    "h1d_measurement_circuits[\"X\"]"
   ]
  },
  {
   "cell_type": "code",
   "execution_count": 21,
   "metadata": {},
   "outputs": [
    {
     "data": {
      "image/png": "[encoded data removed]",
      "text/plain": [
       "<qutip.qip.circuit.QubitCircuit at 0x7f70ad569a30>"
      ]
     },
     "execution_count": 21,
     "metadata": {},
     "output_type": "execute_result"
    }
   ],
   "source": [
    "h1d_measurement_circuits[\"Y\"]"
   ]
  },
  {
   "cell_type": "code",
   "execution_count": 22,
   "metadata": {},
   "outputs": [],
   "source": [
    "# h1d_measurement_circuits[\"Z\"] is the empty circuit"
   ]
  },
  {
   "cell_type": "code",
   "execution_count": 23,
   "metadata": {},
   "outputs": [
    {
     "data": {
      "image/png": "[encoded data removed]",
      "text/plain": [
       "<qutip.qip.circuit.QubitCircuit at 0x7f70ad5b1be0>"
      ]
     },
     "execution_count": 23,
     "metadata": {},
     "output_type": "execute_result"
    }
   ],
   "source": [
    "def h1d_ansatz(theta1, theta2):\n",
    "    qc = QubitCircuit(N=1)\n",
    "    qc.add_gate(\"RX\", targets=0, arg_value=theta1)\n",
    "    qc.add_gate(\"RY\", targets=0, arg_value=theta2)\n",
    "    return qc\n",
    "    \n",
    "h1d_ansatz(math.pi / 2, math.pi / 2)"
   ]
  },
  {
   "cell_type": "code",
   "execution_count": 24,
   "metadata": {},
   "outputs": [
    {
     "data": {
      "text/latex": [
       "Quantum object: dims = [[2], [1]], shape = (2, 1), type = ket\\begin{equation*}\\left(\\begin{array}{*{11}c}1.0\\\\0.0\\\\\\end{array}\\right)\\end{equation*}"
      ],
      "text/plain": [
       "Quantum object: dims = [[2], [1]], shape = (2, 1), type = ket\n",
       "Qobj data =\n",
       "[[1.]\n",
       " [0.]]"
      ]
     },
     "execution_count": 24,
     "metadata": {},
     "output_type": "execute_result"
    }
   ],
   "source": [
    "h1d_initial_state = qutip.ket(\"0\")\n",
    "h1d_initial_state"
   ]
  },
  {
   "cell_type": "code",
   "execution_count": 25,
   "metadata": {},
   "outputs": [
    {
     "name": "stderr",
     "output_type": "stream",
     "text": [
      "INFO:vqefs.vqe:I: coeff: 1, energy: 1\n",
      "INFO:vqefs.vqe:X: coeff: 2, energy: -0.5, probabilities: (0.75, 0.25)\n",
      "INFO:vqefs.vqe:Y: coeff: 3, energy: 0.707107, probabilities: (0.146447, 0.853553)\n",
      "INFO:vqefs.vqe:Z: coeff: 4, energy: -0.5, probabilities: (0.75, 0.25)\n",
      "INFO:vqefs.vqe:I: coeff: 1, energy: 1\n",
      "INFO:vqefs.vqe:X: coeff: 2, energy: -0.5, probabilities: (0.75, 0.25)\n",
      "INFO:vqefs.vqe:Y: coeff: 3, energy: 0.707107, probabilities: (0.146447, 0.853553)\n",
      "INFO:vqefs.vqe:Z: coeff: 4, energy: -0.5, probabilities: (0.75, 0.25)\n",
      "INFO:vqefs.vqe:I: coeff: 1, energy: 1\n",
      "INFO:vqefs.vqe:X: coeff: 2, energy: -0.5, probabilities: (0.75, 0.25)\n",
      "INFO:vqefs.vqe:Y: coeff: 3, energy: 0.707107, probabilities: (0.146447, 0.853553)\n",
      "INFO:vqefs.vqe:Z: coeff: 4, energy: -0.5, probabilities: (0.75, 0.25)\n",
      "INFO:vqefs.vqe:I: coeff: 1, energy: 1\n",
      "INFO:vqefs.vqe:X: coeff: 2, energy: -0.212958, probabilities: (0.606479, 0.393521)\n",
      "INFO:vqefs.vqe:Y: coeff: 3, energy: 0, probabilities: (0.5, 0.5)\n",
      "INFO:vqefs.vqe:Z: coeff: 4, energy: 0.977061, probabilities: (0.0114694, 0.988531)\n",
      "INFO:vqefs.vqe:I: coeff: 1, energy: 1\n",
      "INFO:vqefs.vqe:X: coeff: 2, energy: -0.212958, probabilities: (0.606479, 0.393521)\n",
      "INFO:vqefs.vqe:Y: coeff: 3, energy: -1e-08, probabilities: (0.5, 0.5)\n",
      "INFO:vqefs.vqe:Z: coeff: 4, energy: 0.977061, probabilities: (0.0114694, 0.988531)\n",
      "INFO:vqefs.vqe:I: coeff: 1, energy: 1\n",
      "INFO:vqefs.vqe:X: coeff: 2, energy: -0.212958, probabilities: (0.606479, 0.393521)\n",
      "INFO:vqefs.vqe:Y: coeff: 3, energy: 0, probabilities: (0.5, 0.5)\n",
      "INFO:vqefs.vqe:Z: coeff: 4, energy: 0.977061, probabilities: (0.0114694, 0.988531)\n",
      "INFO:vqefs.vqe:I: coeff: 1, energy: 1\n",
      "INFO:vqefs.vqe:X: coeff: 2, energy: -0.458678, probabilities: (0.729339, 0.270661)\n",
      "INFO:vqefs.vqe:Y: coeff: 3, energy: -0.313689, probabilities: (0.656845, 0.343155)\n",
      "INFO:vqefs.vqe:Z: coeff: 4, energy: -0.831393, probabilities: (0.915696, 0.0843037)\n",
      "INFO:vqefs.vqe:I: coeff: 1, energy: 1\n",
      "INFO:vqefs.vqe:X: coeff: 2, energy: -0.458678, probabilities: (0.729339, 0.270661)\n",
      "INFO:vqefs.vqe:Y: coeff: 3, energy: -0.313689, probabilities: (0.656845, 0.343155)\n",
      "INFO:vqefs.vqe:Z: coeff: 4, energy: -0.831393, probabilities: (0.915696, 0.0843037)\n",
      "INFO:vqefs.vqe:I: coeff: 1, energy: 1\n",
      "INFO:vqefs.vqe:X: coeff: 2, energy: -0.458678, probabilities: (0.729339, 0.270661)\n",
      "INFO:vqefs.vqe:Y: coeff: 3, energy: -0.313689, probabilities: (0.656845, 0.343155)\n",
      "INFO:vqefs.vqe:Z: coeff: 4, energy: -0.831393, probabilities: (0.915696, 0.0843037)\n",
      "INFO:vqefs.vqe:I: coeff: 1, energy: 1\n",
      "INFO:vqefs.vqe:X: coeff: 2, energy: -0.311258, probabilities: (0.655629, 0.344371)\n",
      "INFO:vqefs.vqe:Y: coeff: 3, energy: -0.683704, probabilities: (0.841852, 0.158148)\n",
      "INFO:vqefs.vqe:Z: coeff: 4, energy: -0.660051, probabilities: (0.830025, 0.169975)\n",
      "INFO:vqefs.vqe:I: coeff: 1, energy: 1\n",
      "INFO:vqefs.vqe:X: coeff: 2, energy: -0.311258, probabilities: (0.655629, 0.344371)\n",
      "INFO:vqefs.vqe:Y: coeff: 3, energy: -0.683704, probabilities: (0.841852, 0.158148)\n",
      "INFO:vqefs.vqe:Z: coeff: 4, energy: -0.660051, probabilities: (0.830025, 0.169975)\n",
      "INFO:vqefs.vqe:I: coeff: 1, energy: 1\n",
      "INFO:vqefs.vqe:X: coeff: 2, energy: -0.311258, probabilities: (0.655629, 0.344371)\n",
      "INFO:vqefs.vqe:Y: coeff: 3, energy: -0.683704, probabilities: (0.841852, 0.158148)\n",
      "INFO:vqefs.vqe:Z: coeff: 4, energy: -0.660051, probabilities: (0.830025, 0.169975)\n",
      "INFO:vqefs.vqe:I: coeff: 1, energy: 1\n",
      "INFO:vqefs.vqe:X: coeff: 2, energy: -0.369605, probabilities: (0.684802, 0.315198)\n",
      "INFO:vqefs.vqe:Y: coeff: 3, energy: -0.55666, probabilities: (0.77833, 0.22167)\n",
      "INFO:vqefs.vqe:Z: coeff: 4, energy: -0.743991, probabilities: (0.871995, 0.128005)\n",
      "INFO:vqefs.vqe:I: coeff: 1, energy: 1\n",
      "INFO:vqefs.vqe:X: coeff: 2, energy: -0.369605, probabilities: (0.684802, 0.315198)\n",
      "INFO:vqefs.vqe:Y: coeff: 3, energy: -0.55666, probabilities: (0.77833, 0.22167)\n",
      "INFO:vqefs.vqe:Z: coeff: 4, energy: -0.743991, probabilities: (0.871995, 0.128005)\n",
      "INFO:vqefs.vqe:I: coeff: 1, energy: 1\n",
      "INFO:vqefs.vqe:X: coeff: 2, energy: -0.369605, probabilities: (0.684802, 0.315198)\n",
      "INFO:vqefs.vqe:Y: coeff: 3, energy: -0.55666, probabilities: (0.77833, 0.22167)\n",
      "INFO:vqefs.vqe:Z: coeff: 4, energy: -0.743991, probabilities: (0.871995, 0.128005)\n",
      "INFO:vqefs.vqe:I: coeff: 1, energy: 1\n",
      "INFO:vqefs.vqe:X: coeff: 2, energy: -0.370847, probabilities: (0.685424, 0.314576)\n",
      "INFO:vqefs.vqe:Y: coeff: 3, energy: -0.557017, probabilities: (0.778508, 0.221492)\n",
      "INFO:vqefs.vqe:Z: coeff: 4, energy: -0.743105, probabilities: (0.871553, 0.128447)\n",
      "INFO:vqefs.vqe:I: coeff: 1, energy: 1\n",
      "INFO:vqefs.vqe:X: coeff: 2, energy: -0.370847, probabilities: (0.685424, 0.314576)\n",
      "INFO:vqefs.vqe:Y: coeff: 3, energy: -0.557017, probabilities: (0.778508, 0.221492)\n",
      "INFO:vqefs.vqe:Z: coeff: 4, energy: -0.743105, probabilities: (0.871553, 0.128447)\n",
      "INFO:vqefs.vqe:I: coeff: 1, energy: 1\n",
      "INFO:vqefs.vqe:X: coeff: 2, energy: -0.370847, probabilities: (0.685424, 0.314576)\n",
      "INFO:vqefs.vqe:Y: coeff: 3, energy: -0.557017, probabilities: (0.778508, 0.221492)\n",
      "INFO:vqefs.vqe:Z: coeff: 4, energy: -0.743105, probabilities: (0.871553, 0.128447)\n",
      "INFO:vqefs.vqe:I: coeff: 1, energy: 1\n",
      "INFO:vqefs.vqe:X: coeff: 2, energy: -0.371391, probabilities: (0.685696, 0.314304)\n",
      "INFO:vqefs.vqe:Y: coeff: 3, energy: -0.557085, probabilities: (0.778542, 0.221458)\n",
      "INFO:vqefs.vqe:Z: coeff: 4, energy: -0.742782, probabilities: (0.871391, 0.128609)\n",
      "INFO:vqefs.vqe:I: coeff: 1, energy: 1\n",
      "INFO:vqefs.vqe:X: coeff: 2, energy: -0.371391, probabilities: (0.685696, 0.314304)\n",
      "INFO:vqefs.vqe:Y: coeff: 3, energy: -0.557085, probabilities: (0.778542, 0.221458)\n",
      "INFO:vqefs.vqe:Z: coeff: 4, energy: -0.742782, probabilities: (0.871391, 0.128609)\n",
      "INFO:vqefs.vqe:I: coeff: 1, energy: 1\n",
      "INFO:vqefs.vqe:X: coeff: 2, energy: -0.371391, probabilities: (0.685696, 0.314304)\n",
      "INFO:vqefs.vqe:Y: coeff: 3, energy: -0.557085, probabilities: (0.778542, 0.221458)\n",
      "INFO:vqefs.vqe:Z: coeff: 4, energy: -0.742782, probabilities: (0.871391, 0.128609)\n"
     ]
    },
    {
     "data": {
      "text/plain": [
       "      fun: -4.385164807129536\n",
       " hess_inv: <2x2 LbfgsInvHessProduct with dtype=float64>\n",
       "      jac: array([7.2830630e-06, 4.4408921e-07])\n",
       "  message: b'CONVERGENCE: NORM_OF_PROJECTED_GRADIENT_<=_PGTOL'\n",
       "     nfev: 21\n",
       "      nit: 5\n",
       "     njev: 7\n",
       "   status: 0\n",
       "  success: True\n",
       "        x: array([-0.59087139,  0.46364771])"
      ]
     },
     "execution_count": 25,
     "metadata": {},
     "output_type": "execute_result"
    }
   ],
   "source": [
    "# set to analytical=True to use exact outcome probabilitites, set to False to simulate outcomes\n",
    "analytical = True\n",
    "\n",
    "def h1d_energy(x):\n",
    "    theta1, theta2 = x\n",
    "    ansatz_circuit = h1d_ansatz(theta1, theta2)\n",
    "    energy = vqefs.vqe.estimate_energy(\n",
    "        h1d_coeffs, h1d_measurement_circuits,\n",
    "        h1d_initial_state, ansatz_circuit,\n",
    "        shots=200, analytical=analytical\n",
    "    )\n",
    "    return energy\n",
    "\n",
    "result = scipy.optimize.minimize(\n",
    "    h1d_energy, x0=(math.pi / 4, math.pi / 4),\n",
    "    bounds=[(-math.pi, math.pi), (-math.pi, math.pi)],\n",
    "    options={\"maxiter\": 10, \"disp\": True},\n",
    ")\n",
    "result"
   ]
  },
  {
   "cell_type": "code",
   "execution_count": 26,
   "metadata": {},
   "outputs": [
    {
     "name": "stdout",
     "output_type": "stream",
     "text": [
      "minimum energy: -4.385164807129536\n",
      "best theta: [-0.59087139  0.46364771]\n"
     ]
    }
   ],
   "source": [
    "print(f\"minimum energy: {result.fun}\")\n",
    "print(f\"best theta: {result.x}\")"
   ]
  },
  {
   "cell_type": "code",
   "execution_count": 27,
   "metadata": {},
   "outputs": [
    {
     "data": {
      "text/latex": [
       "Quantum object: dims = [[2], [1]], shape = (2, 1), type = ket\\begin{equation*}\\left(\\begin{array}{*{11}c}(0.931-0.067j)\\\\(0.220+0.283j)\\\\\\end{array}\\right)\\end{equation*}"
      ],
      "text/plain": [
       "Quantum object: dims = [[2], [1]], shape = (2, 1), type = ket\n",
       "Qobj data =\n",
       "[[0.93108333-0.06689412j]\n",
       " [0.21979901+0.28336796j]]"
      ]
     },
     "execution_count": 27,
     "metadata": {},
     "output_type": "execute_result"
    }
   ],
   "source": [
    "# display final state\n",
    "h1d_ansatz(*result.x).run(h1d_initial_state)[0]"
   ]
  },
  {
   "cell_type": "code",
   "execution_count": 28,
   "metadata": {},
   "outputs": [
    {
     "data": {
      "text/plain": [
       "(array([-4.38516481,  6.38516481]),\n",
       " array([Quantum object: dims = [[2], [1]], shape = (2, 1), type = ket\n",
       " Qobj data =\n",
       " [[-0.35862142+0.j        ]\n",
       "  [ 0.51780325+0.77670488j]],\n",
       "        Quantum object: dims = [[2], [1]], shape = (2, 1), type = ket\n",
       " Qobj data =\n",
       " [[-0.93348309+0.j        ]\n",
       "  [-0.19892737-0.29839106j]]], dtype=object))"
      ]
     },
     "execution_count": 28,
     "metadata": {},
     "output_type": "execute_result"
    }
   ],
   "source": [
    "h1d.eigenstates()"
   ]
  },
  {
   "cell_type": "markdown",
   "metadata": {},
   "source": [
    "# 3. Two qubit example for testing <a class=\"anchor\" id=\"two-qubit-test\"></a>\n",
    "\n",
    "<hr/>\n",
    "\n",
    "* Test a simple two qubit example to sanity check the procedure we're using.\n",
    "* Changing the Pauli coefficients can be useful when debugging."
   ]
  },
  {
   "cell_type": "code",
   "execution_count": 29,
   "metadata": {},
   "outputs": [
    {
     "data": {
      "text/plain": [
       "{'II': 1, 'XX': 2, 'YY': 3, 'ZZ': 4}"
      ]
     },
     "execution_count": 29,
     "metadata": {},
     "output_type": "execute_result"
    }
   ],
   "source": [
    "h2d_coeffs = {\"II\": 1, \"XX\": 2, \"YY\": 3, \"ZZ\": 4}\n",
    "h2d_coeffs"
   ]
  },
  {
   "cell_type": "code",
   "execution_count": 30,
   "metadata": {},
   "outputs": [
    {
     "data": {
      "text/latex": [
       "Quantum object: dims = [[2, 2], [2, 2]], shape = (4, 4), type = oper, isherm = True\\begin{equation*}\\left(\\begin{array}{*{11}c}5.0 & 0.0 & 0.0 & -1.0\\\\0.0 & -3.0 & 5.0 & 0.0\\\\0.0 & 5.0 & -3.0 & 0.0\\\\-1.0 & 0.0 & 0.0 & 5.0\\\\\\end{array}\\right)\\end{equation*}"
      ],
      "text/plain": [
       "Quantum object: dims = [[2, 2], [2, 2]], shape = (4, 4), type = oper, isherm = True\n",
       "Qobj data =\n",
       "[[ 5.  0.  0. -1.]\n",
       " [ 0. -3.  5.  0.]\n",
       " [ 0.  5. -3.  0.]\n",
       " [-1.  0.  0.  5.]]"
      ]
     },
     "execution_count": 30,
     "metadata": {},
     "output_type": "execute_result"
    }
   ],
   "source": [
    "h2d = vqefs.pauli.compose(h2d_coeffs)\n",
    "h2d"
   ]
  },
  {
   "cell_type": "code",
   "execution_count": 31,
   "metadata": {},
   "outputs": [],
   "source": [
    "h2d_measurement_circuits = {\n",
    "    indices: vqefs.pauli.measurement_circuit(indices) for indices in h2d_coeffs\n",
    "}"
   ]
  },
  {
   "cell_type": "code",
   "execution_count": 32,
   "metadata": {},
   "outputs": [
    {
     "data": {
      "image/png": "[encoded data removed]",
      "text/plain": [
       "<qutip.qip.circuit.QubitCircuit at 0x7f70ad520520>"
      ]
     },
     "execution_count": 32,
     "metadata": {},
     "output_type": "execute_result"
    }
   ],
   "source": [
    "def h2d_ansatz(theta1, theta2, theta3, theta4):\n",
    "    \"\"\" A fairly arbitrary 2-qubit ansatz. \"\"\"\n",
    "    qc = QubitCircuit(N=2)\n",
    "    qc.add_gate(\"RY\", targets=0, arg_value=theta1)    \n",
    "    qc.add_gate(\"CNOT\", controls=1, targets=0)\n",
    "    qc.add_gate(\"RY\", targets=1, arg_value=theta2)\n",
    "    qc.add_gate(\"RZ\", targets=0, arg_value=theta3)\n",
    "    qc.add_gate(\"CNOT\", controls=0, targets=1)\n",
    "    qc.add_gate(\"RY\", targets=1, arg_value=theta4)\n",
    "    return qc\n",
    "    \n",
    "h2d_ansatz(math.pi / 2, math.pi / 2, math.pi / 2, math.pi / 2)"
   ]
  },
  {
   "cell_type": "code",
   "execution_count": 33,
   "metadata": {},
   "outputs": [
    {
     "data": {
      "text/latex": [
       "Quantum object: dims = [[2, 2], [1, 1]], shape = (4, 1), type = ket\\begin{equation*}\\left(\\begin{array}{*{11}c}1.0\\\\0.0\\\\0.0\\\\0.0\\\\\\end{array}\\right)\\end{equation*}"
      ],
      "text/plain": [
       "Quantum object: dims = [[2, 2], [1, 1]], shape = (4, 1), type = ket\n",
       "Qobj data =\n",
       "[[1.]\n",
       " [0.]\n",
       " [0.]\n",
       " [0.]]"
      ]
     },
     "execution_count": 33,
     "metadata": {},
     "output_type": "execute_result"
    }
   ],
   "source": [
    "h2d_initial_state = qutip.ket(\"00\")\n",
    "h2d_initial_state"
   ]
  },
  {
   "cell_type": "code",
   "execution_count": 34,
   "metadata": {
    "scrolled": false
   },
   "outputs": [
    {
     "name": "stderr",
     "output_type": "stream",
     "text": [
      "INFO:vqefs.vqe:II: coeff: 1, energy: 1\n",
      "INFO:vqefs.vqe:XX: coeff: 2, energy: 0.353553, probabilities: (0.676777, 0.323223)\n",
      "INFO:vqefs.vqe:YY: coeff: 3, energy: -0.353553, probabilities: (0.323223, 0.676777)\n",
      "INFO:vqefs.vqe:ZZ: coeff: 4, energy: 0.146447, probabilities: (0.573223, 0.426777)\n",
      "INFO:vqefs.vqe:II: coeff: 1, energy: 1\n",
      "INFO:vqefs.vqe:XX: coeff: 2, energy: 0.353553, probabilities: (0.676777, 0.323223)\n",
      "INFO:vqefs.vqe:YY: coeff: 3, energy: -0.353553, probabilities: (0.323223, 0.676777)\n",
      "INFO:vqefs.vqe:ZZ: coeff: 4, energy: 0.146447, probabilities: (0.573223, 0.426777)\n",
      "INFO:vqefs.vqe:II: coeff: 1, energy: 1\n",
      "INFO:vqefs.vqe:XX: coeff: 2, energy: 0.353553, probabilities: (0.676777, 0.323223)\n",
      "INFO:vqefs.vqe:YY: coeff: 3, energy: -0.353553, probabilities: (0.323223, 0.676777)\n",
      "INFO:vqefs.vqe:ZZ: coeff: 4, energy: 0.146447, probabilities: (0.573223, 0.426777)\n",
      "INFO:vqefs.vqe:II: coeff: 1, energy: 1\n",
      "INFO:vqefs.vqe:XX: coeff: 2, energy: 0.353553, probabilities: (0.676777, 0.323223)\n",
      "INFO:vqefs.vqe:YY: coeff: 3, energy: -0.353553, probabilities: (0.323223, 0.676777)\n",
      "INFO:vqefs.vqe:ZZ: coeff: 4, energy: 0.146447, probabilities: (0.573223, 0.426777)\n",
      "INFO:vqefs.vqe:II: coeff: 1, energy: 1\n",
      "INFO:vqefs.vqe:XX: coeff: 2, energy: 0.353553, probabilities: (0.676777, 0.323223)\n",
      "INFO:vqefs.vqe:YY: coeff: 3, energy: -0.353553, probabilities: (0.323223, 0.676777)\n",
      "INFO:vqefs.vqe:ZZ: coeff: 4, energy: 0.146447, probabilities: (0.573223, 0.426777)\n",
      "INFO:vqefs.vqe:II: coeff: 1, energy: 1\n",
      "INFO:vqefs.vqe:XX: coeff: 2, energy: 0.246847, probabilities: (0.623423, 0.376577)\n",
      "INFO:vqefs.vqe:YY: coeff: 3, energy: -0.246846, probabilities: (0.376577, 0.623423)\n",
      "INFO:vqefs.vqe:ZZ: coeff: 4, energy: 0.999997, probabilities: (0.999998, 1.74389e-06)\n",
      "INFO:vqefs.vqe:II: coeff: 1, energy: 1\n",
      "INFO:vqefs.vqe:XX: coeff: 2, energy: 0.246847, probabilities: (0.623423, 0.376577)\n",
      "INFO:vqefs.vqe:YY: coeff: 3, energy: -0.246846, probabilities: (0.376577, 0.623423)\n",
      "INFO:vqefs.vqe:ZZ: coeff: 4, energy: 0.999997, probabilities: (0.999998, 1.74389e-06)\n",
      "INFO:vqefs.vqe:II: coeff: 1, energy: 1\n",
      "INFO:vqefs.vqe:XX: coeff: 2, energy: 0.246847, probabilities: (0.623423, 0.376577)\n",
      "INFO:vqefs.vqe:YY: coeff: 3, energy: -0.246846, probabilities: (0.376577, 0.623423)\n",
      "INFO:vqefs.vqe:ZZ: coeff: 4, energy: 0.999997, probabilities: (0.999998, 1.74387e-06)\n",
      "INFO:vqefs.vqe:II: coeff: 1, energy: 1\n",
      "INFO:vqefs.vqe:XX: coeff: 2, energy: 0.246847, probabilities: (0.623423, 0.376577)\n",
      "INFO:vqefs.vqe:YY: coeff: 3, energy: -0.246846, probabilities: (0.376577, 0.623423)\n",
      "INFO:vqefs.vqe:ZZ: coeff: 4, energy: 0.999997, probabilities: (0.999998, 1.74389e-06)\n",
      "INFO:vqefs.vqe:II: coeff: 1, energy: 1\n",
      "INFO:vqefs.vqe:XX: coeff: 2, energy: 0.246847, probabilities: (0.623423, 0.376577)\n",
      "INFO:vqefs.vqe:YY: coeff: 3, energy: -0.246846, probabilities: (0.376577, 0.623423)\n",
      "INFO:vqefs.vqe:ZZ: coeff: 4, energy: 0.999997, probabilities: (0.999998, 1.7439e-06)\n",
      "INFO:vqefs.vqe:II: coeff: 1, energy: 1\n",
      "INFO:vqefs.vqe:XX: coeff: 2, energy: 0.0962184, probabilities: (0.548109, 0.451891)\n",
      "INFO:vqefs.vqe:YY: coeff: 3, energy: -0.0964488, probabilities: (0.451776, 0.548224)\n",
      "INFO:vqefs.vqe:ZZ: coeff: 4, energy: -0.74501, probabilities: (0.127495, 0.872505)\n",
      "INFO:vqefs.vqe:II: coeff: 1, energy: 1\n",
      "INFO:vqefs.vqe:XX: coeff: 2, energy: 0.0962184, probabilities: (0.548109, 0.451891)\n",
      "INFO:vqefs.vqe:YY: coeff: 3, energy: -0.0964488, probabilities: (0.451776, 0.548224)\n",
      "INFO:vqefs.vqe:ZZ: coeff: 4, energy: -0.74501, probabilities: (0.127495, 0.872505)\n",
      "INFO:vqefs.vqe:II: coeff: 1, energy: 1\n",
      "INFO:vqefs.vqe:XX: coeff: 2, energy: 0.0962184, probabilities: (0.548109, 0.451891)\n",
      "INFO:vqefs.vqe:YY: coeff: 3, energy: -0.0964488, probabilities: (0.451776, 0.548224)\n",
      "INFO:vqefs.vqe:ZZ: coeff: 4, energy: -0.74501, probabilities: (0.127495, 0.872505)\n",
      "INFO:vqefs.vqe:II: coeff: 1, energy: 1\n",
      "INFO:vqefs.vqe:XX: coeff: 2, energy: 0.0962184, probabilities: (0.548109, 0.451891)\n",
      "INFO:vqefs.vqe:YY: coeff: 3, energy: -0.0964488, probabilities: (0.451776, 0.548224)\n",
      "INFO:vqefs.vqe:ZZ: coeff: 4, energy: -0.74501, probabilities: (0.127495, 0.872505)\n",
      "INFO:vqefs.vqe:II: coeff: 1, energy: 1\n",
      "INFO:vqefs.vqe:XX: coeff: 2, energy: 0.0962184, probabilities: (0.548109, 0.451891)\n",
      "INFO:vqefs.vqe:YY: coeff: 3, energy: -0.0964488, probabilities: (0.451776, 0.548224)\n",
      "INFO:vqefs.vqe:ZZ: coeff: 4, energy: -0.74501, probabilities: (0.127495, 0.872505)\n",
      "INFO:vqefs.vqe:II: coeff: 1, energy: 1\n",
      "INFO:vqefs.vqe:XX: coeff: 2, energy: 0.402748, probabilities: (0.701374, 0.298626)\n",
      "INFO:vqefs.vqe:YY: coeff: 3, energy: -0.184303, probabilities: (0.407848, 0.592152)\n",
      "INFO:vqefs.vqe:ZZ: coeff: 4, energy: -0.138293, probabilities: (0.430853, 0.569147)\n",
      "INFO:vqefs.vqe:II: coeff: 1, energy: 1\n",
      "INFO:vqefs.vqe:XX: coeff: 2, energy: 0.402748, probabilities: (0.701374, 0.298626)\n",
      "INFO:vqefs.vqe:YY: coeff: 3, energy: -0.184303, probabilities: (0.407848, 0.592152)\n",
      "INFO:vqefs.vqe:ZZ: coeff: 4, energy: -0.138293, probabilities: (0.430853, 0.569147)\n",
      "INFO:vqefs.vqe:II: coeff: 1, energy: 1\n",
      "INFO:vqefs.vqe:XX: coeff: 2, energy: 0.402748, probabilities: (0.701374, 0.298626)\n",
      "INFO:vqefs.vqe:YY: coeff: 3, energy: -0.184303, probabilities: (0.407848, 0.592152)\n",
      "INFO:vqefs.vqe:ZZ: coeff: 4, energy: -0.138293, probabilities: (0.430853, 0.569147)\n",
      "INFO:vqefs.vqe:II: coeff: 1, energy: 1\n",
      "INFO:vqefs.vqe:XX: coeff: 2, energy: 0.402748, probabilities: (0.701374, 0.298626)\n",
      "INFO:vqefs.vqe:YY: coeff: 3, energy: -0.184303, probabilities: (0.407848, 0.592152)\n",
      "INFO:vqefs.vqe:ZZ: coeff: 4, energy: -0.138293, probabilities: (0.430853, 0.569147)\n",
      "INFO:vqefs.vqe:II: coeff: 1, energy: 1\n",
      "INFO:vqefs.vqe:XX: coeff: 2, energy: 0.402748, probabilities: (0.701374, 0.298626)\n",
      "INFO:vqefs.vqe:YY: coeff: 3, energy: -0.184303, probabilities: (0.407848, 0.592152)\n",
      "INFO:vqefs.vqe:ZZ: coeff: 4, energy: -0.138293, probabilities: (0.430853, 0.569147)\n",
      "INFO:vqefs.vqe:II: coeff: 1, energy: 1\n",
      "INFO:vqefs.vqe:XX: coeff: 2, energy: -0.0125952, probabilities: (0.493702, 0.506298)\n",
      "INFO:vqefs.vqe:YY: coeff: 3, energy: -0.012712, probabilities: (0.493644, 0.506356)\n",
      "INFO:vqefs.vqe:ZZ: coeff: 4, energy: -0.977193, probabilities: (0.0114033, 0.988597)\n",
      "INFO:vqefs.vqe:II: coeff: 1, energy: 1\n",
      "INFO:vqefs.vqe:XX: coeff: 2, energy: -0.0125952, probabilities: (0.493702, 0.506298)\n",
      "INFO:vqefs.vqe:YY: coeff: 3, energy: -0.012712, probabilities: (0.493644, 0.506356)\n",
      "INFO:vqefs.vqe:ZZ: coeff: 4, energy: -0.977193, probabilities: (0.0114033, 0.988597)\n",
      "INFO:vqefs.vqe:II: coeff: 1, energy: 1\n",
      "INFO:vqefs.vqe:XX: coeff: 2, energy: -0.0125952, probabilities: (0.493702, 0.506298)\n",
      "INFO:vqefs.vqe:YY: coeff: 3, energy: -0.012712, probabilities: (0.493644, 0.506356)\n",
      "INFO:vqefs.vqe:ZZ: coeff: 4, energy: -0.977193, probabilities: (0.0114033, 0.988597)\n",
      "INFO:vqefs.vqe:II: coeff: 1, energy: 1\n",
      "INFO:vqefs.vqe:XX: coeff: 2, energy: -0.0125952, probabilities: (0.493702, 0.506298)\n",
      "INFO:vqefs.vqe:YY: coeff: 3, energy: -0.012712, probabilities: (0.493644, 0.506356)\n",
      "INFO:vqefs.vqe:ZZ: coeff: 4, energy: -0.977193, probabilities: (0.0114033, 0.988597)\n",
      "INFO:vqefs.vqe:II: coeff: 1, energy: 1\n",
      "INFO:vqefs.vqe:XX: coeff: 2, energy: -0.0125952, probabilities: (0.493702, 0.506298)\n",
      "INFO:vqefs.vqe:YY: coeff: 3, energy: -0.012712, probabilities: (0.493644, 0.506356)\n",
      "INFO:vqefs.vqe:ZZ: coeff: 4, energy: -0.977193, probabilities: (0.0114033, 0.988597)\n",
      "INFO:vqefs.vqe:II: coeff: 1, energy: 1\n",
      "INFO:vqefs.vqe:XX: coeff: 2, energy: -0.0122658, probabilities: (0.493867, 0.506133)\n",
      "INFO:vqefs.vqe:YY: coeff: 3, energy: -0.0129265, probabilities: (0.493537, 0.506463)\n",
      "INFO:vqefs.vqe:ZZ: coeff: 4, energy: -0.994722, probabilities: (0.00263882, 0.997361)\n",
      "INFO:vqefs.vqe:II: coeff: 1, energy: 1\n",
      "INFO:vqefs.vqe:XX: coeff: 2, energy: -0.0122658, probabilities: (0.493867, 0.506133)\n",
      "INFO:vqefs.vqe:YY: coeff: 3, energy: -0.0129265, probabilities: (0.493537, 0.506463)\n",
      "INFO:vqefs.vqe:ZZ: coeff: 4, energy: -0.994722, probabilities: (0.00263882, 0.997361)\n",
      "INFO:vqefs.vqe:II: coeff: 1, energy: 1\n",
      "INFO:vqefs.vqe:XX: coeff: 2, energy: -0.0122658, probabilities: (0.493867, 0.506133)\n",
      "INFO:vqefs.vqe:YY: coeff: 3, energy: -0.0129265, probabilities: (0.493537, 0.506463)\n",
      "INFO:vqefs.vqe:ZZ: coeff: 4, energy: -0.994722, probabilities: (0.00263882, 0.997361)\n",
      "INFO:vqefs.vqe:II: coeff: 1, energy: 1\n"
     ]
    },
    {
     "name": "stderr",
     "output_type": "stream",
     "text": [
      "INFO:vqefs.vqe:XX: coeff: 2, energy: -0.0122658, probabilities: (0.493867, 0.506133)\n",
      "INFO:vqefs.vqe:YY: coeff: 3, energy: -0.0129265, probabilities: (0.493537, 0.506463)\n",
      "INFO:vqefs.vqe:ZZ: coeff: 4, energy: -0.994722, probabilities: (0.00263882, 0.997361)\n",
      "INFO:vqefs.vqe:II: coeff: 1, energy: 1\n",
      "INFO:vqefs.vqe:XX: coeff: 2, energy: -0.0122658, probabilities: (0.493867, 0.506133)\n",
      "INFO:vqefs.vqe:YY: coeff: 3, energy: -0.0129265, probabilities: (0.493537, 0.506463)\n",
      "INFO:vqefs.vqe:ZZ: coeff: 4, energy: -0.994722, probabilities: (0.00263882, 0.997361)\n",
      "INFO:vqefs.vqe:II: coeff: 1, energy: 1\n",
      "INFO:vqefs.vqe:XX: coeff: 2, energy: -0.019208, probabilities: (0.490396, 0.509604)\n",
      "INFO:vqefs.vqe:YY: coeff: 3, energy: -0.0219744, probabilities: (0.489013, 0.510987)\n",
      "INFO:vqefs.vqe:ZZ: coeff: 4, energy: -0.99224, probabilities: (0.0038801, 0.99612)\n",
      "INFO:vqefs.vqe:II: coeff: 1, energy: 1\n",
      "INFO:vqefs.vqe:XX: coeff: 2, energy: -0.019208, probabilities: (0.490396, 0.509604)\n",
      "INFO:vqefs.vqe:YY: coeff: 3, energy: -0.0219744, probabilities: (0.489013, 0.510987)\n",
      "INFO:vqefs.vqe:ZZ: coeff: 4, energy: -0.99224, probabilities: (0.0038801, 0.99612)\n",
      "INFO:vqefs.vqe:II: coeff: 1, energy: 1\n",
      "INFO:vqefs.vqe:XX: coeff: 2, energy: -0.019208, probabilities: (0.490396, 0.509604)\n",
      "INFO:vqefs.vqe:YY: coeff: 3, energy: -0.0219744, probabilities: (0.489013, 0.510987)\n",
      "INFO:vqefs.vqe:ZZ: coeff: 4, energy: -0.99224, probabilities: (0.0038801, 0.99612)\n",
      "INFO:vqefs.vqe:II: coeff: 1, energy: 1\n",
      "INFO:vqefs.vqe:XX: coeff: 2, energy: -0.019208, probabilities: (0.490396, 0.509604)\n",
      "INFO:vqefs.vqe:YY: coeff: 3, energy: -0.0219744, probabilities: (0.489013, 0.510987)\n",
      "INFO:vqefs.vqe:ZZ: coeff: 4, energy: -0.99224, probabilities: (0.0038801, 0.99612)\n",
      "INFO:vqefs.vqe:II: coeff: 1, energy: 1\n",
      "INFO:vqefs.vqe:XX: coeff: 2, energy: -0.019208, probabilities: (0.490396, 0.509604)\n",
      "INFO:vqefs.vqe:YY: coeff: 3, energy: -0.0219744, probabilities: (0.489013, 0.510987)\n",
      "INFO:vqefs.vqe:ZZ: coeff: 4, energy: -0.99224, probabilities: (0.0038801, 0.99612)\n",
      "INFO:vqefs.vqe:II: coeff: 1, energy: 1\n",
      "INFO:vqefs.vqe:XX: coeff: 2, energy: -0.061877, probabilities: (0.469061, 0.530939)\n",
      "INFO:vqefs.vqe:YY: coeff: 3, energy: -0.0786764, probabilities: (0.460662, 0.539338)\n",
      "INFO:vqefs.vqe:ZZ: coeff: 4, energy: -0.976591, probabilities: (0.0117045, 0.988296)\n",
      "INFO:vqefs.vqe:II: coeff: 1, energy: 1\n",
      "INFO:vqefs.vqe:XX: coeff: 2, energy: -0.061877, probabilities: (0.469061, 0.530939)\n",
      "INFO:vqefs.vqe:YY: coeff: 3, energy: -0.0786764, probabilities: (0.460662, 0.539338)\n",
      "INFO:vqefs.vqe:ZZ: coeff: 4, energy: -0.976591, probabilities: (0.0117045, 0.988296)\n",
      "INFO:vqefs.vqe:II: coeff: 1, energy: 1\n",
      "INFO:vqefs.vqe:XX: coeff: 2, energy: -0.061877, probabilities: (0.469061, 0.530939)\n",
      "INFO:vqefs.vqe:YY: coeff: 3, energy: -0.0786764, probabilities: (0.460662, 0.539338)\n",
      "INFO:vqefs.vqe:ZZ: coeff: 4, energy: -0.976591, probabilities: (0.0117045, 0.988296)\n",
      "INFO:vqefs.vqe:II: coeff: 1, energy: 1\n",
      "INFO:vqefs.vqe:XX: coeff: 2, energy: -0.061877, probabilities: (0.469061, 0.530939)\n",
      "INFO:vqefs.vqe:YY: coeff: 3, energy: -0.0786764, probabilities: (0.460662, 0.539338)\n",
      "INFO:vqefs.vqe:ZZ: coeff: 4, energy: -0.976591, probabilities: (0.0117045, 0.988296)\n",
      "INFO:vqefs.vqe:II: coeff: 1, energy: 1\n",
      "INFO:vqefs.vqe:XX: coeff: 2, energy: -0.061877, probabilities: (0.469061, 0.530939)\n",
      "INFO:vqefs.vqe:YY: coeff: 3, energy: -0.0786764, probabilities: (0.460662, 0.539338)\n",
      "INFO:vqefs.vqe:ZZ: coeff: 4, energy: -0.976591, probabilities: (0.0117045, 0.988296)\n",
      "INFO:vqefs.vqe:II: coeff: 1, energy: 1\n",
      "INFO:vqefs.vqe:XX: coeff: 2, energy: -0.408026, probabilities: (0.295987, 0.704013)\n",
      "INFO:vqefs.vqe:YY: coeff: 3, energy: -0.453927, probabilities: (0.273037, 0.726963)\n",
      "INFO:vqefs.vqe:ZZ: coeff: 4, energy: -0.903047, probabilities: (0.0484764, 0.951524)\n",
      "INFO:vqefs.vqe:II: coeff: 1, energy: 1\n",
      "INFO:vqefs.vqe:XX: coeff: 2, energy: -0.408026, probabilities: (0.295987, 0.704013)\n",
      "INFO:vqefs.vqe:YY: coeff: 3, energy: -0.453927, probabilities: (0.273037, 0.726963)\n",
      "INFO:vqefs.vqe:ZZ: coeff: 4, energy: -0.903047, probabilities: (0.0484764, 0.951524)\n",
      "INFO:vqefs.vqe:II: coeff: 1, energy: 1\n",
      "INFO:vqefs.vqe:XX: coeff: 2, energy: -0.408026, probabilities: (0.295987, 0.704013)\n",
      "INFO:vqefs.vqe:YY: coeff: 3, energy: -0.453927, probabilities: (0.273037, 0.726963)\n",
      "INFO:vqefs.vqe:ZZ: coeff: 4, energy: -0.903047, probabilities: (0.0484764, 0.951524)\n",
      "INFO:vqefs.vqe:II: coeff: 1, energy: 1\n",
      "INFO:vqefs.vqe:XX: coeff: 2, energy: -0.408026, probabilities: (0.295987, 0.704013)\n",
      "INFO:vqefs.vqe:YY: coeff: 3, energy: -0.453927, probabilities: (0.273037, 0.726963)\n",
      "INFO:vqefs.vqe:ZZ: coeff: 4, energy: -0.903047, probabilities: (0.0484764, 0.951524)\n",
      "INFO:vqefs.vqe:II: coeff: 1, energy: 1\n",
      "INFO:vqefs.vqe:XX: coeff: 2, energy: -0.408026, probabilities: (0.295987, 0.704013)\n",
      "INFO:vqefs.vqe:YY: coeff: 3, energy: -0.453927, probabilities: (0.273037, 0.726963)\n",
      "INFO:vqefs.vqe:ZZ: coeff: 4, energy: -0.903047, probabilities: (0.0484764, 0.951524)\n",
      "INFO:vqefs.vqe:II: coeff: 1, energy: 1\n",
      "INFO:vqefs.vqe:XX: coeff: 2, energy: -0.625129, probabilities: (0.187436, 0.812564)\n",
      "INFO:vqefs.vqe:YY: coeff: 3, energy: -0.499015, probabilities: (0.250492, 0.749508)\n",
      "INFO:vqefs.vqe:ZZ: coeff: 4, energy: -0.79826, probabilities: (0.10087, 0.89913)\n",
      "INFO:vqefs.vqe:II: coeff: 1, energy: 1\n",
      "INFO:vqefs.vqe:XX: coeff: 2, energy: -0.625129, probabilities: (0.187436, 0.812564)\n",
      "INFO:vqefs.vqe:YY: coeff: 3, energy: -0.499015, probabilities: (0.250492, 0.749508)\n",
      "INFO:vqefs.vqe:ZZ: coeff: 4, energy: -0.79826, probabilities: (0.10087, 0.89913)\n",
      "INFO:vqefs.vqe:II: coeff: 1, energy: 1\n",
      "INFO:vqefs.vqe:XX: coeff: 2, energy: -0.625129, probabilities: (0.187436, 0.812564)\n",
      "INFO:vqefs.vqe:YY: coeff: 3, energy: -0.499015, probabilities: (0.250492, 0.749508)\n",
      "INFO:vqefs.vqe:ZZ: coeff: 4, energy: -0.79826, probabilities: (0.10087, 0.89913)\n",
      "INFO:vqefs.vqe:II: coeff: 1, energy: 1\n",
      "INFO:vqefs.vqe:XX: coeff: 2, energy: -0.625129, probabilities: (0.187436, 0.812564)\n",
      "INFO:vqefs.vqe:YY: coeff: 3, energy: -0.499015, probabilities: (0.250492, 0.749508)\n",
      "INFO:vqefs.vqe:ZZ: coeff: 4, energy: -0.79826, probabilities: (0.10087, 0.89913)\n",
      "INFO:vqefs.vqe:II: coeff: 1, energy: 1\n",
      "INFO:vqefs.vqe:XX: coeff: 2, energy: -0.625129, probabilities: (0.187436, 0.812564)\n",
      "INFO:vqefs.vqe:YY: coeff: 3, energy: -0.499015, probabilities: (0.250492, 0.749508)\n",
      "INFO:vqefs.vqe:ZZ: coeff: 4, energy: -0.79826, probabilities: (0.10087, 0.89913)\n",
      "INFO:vqefs.vqe:II: coeff: 1, energy: 1\n",
      "INFO:vqefs.vqe:XX: coeff: 2, energy: -0.531004, probabilities: (0.234498, 0.765502)\n",
      "INFO:vqefs.vqe:YY: coeff: 3, energy: -0.515062, probabilities: (0.242469, 0.757531)\n",
      "INFO:vqefs.vqe:ZZ: coeff: 4, energy: -0.867408, probabilities: (0.0662962, 0.933704)\n",
      "INFO:vqefs.vqe:II: coeff: 1, energy: 1\n",
      "INFO:vqefs.vqe:XX: coeff: 2, energy: -0.531004, probabilities: (0.234498, 0.765502)\n",
      "INFO:vqefs.vqe:YY: coeff: 3, energy: -0.515062, probabilities: (0.242469, 0.757531)\n",
      "INFO:vqefs.vqe:ZZ: coeff: 4, energy: -0.867408, probabilities: (0.0662962, 0.933704)\n",
      "INFO:vqefs.vqe:II: coeff: 1, energy: 1\n",
      "INFO:vqefs.vqe:XX: coeff: 2, energy: -0.531004, probabilities: (0.234498, 0.765502)\n",
      "INFO:vqefs.vqe:YY: coeff: 3, energy: -0.515062, probabilities: (0.242469, 0.757531)\n",
      "INFO:vqefs.vqe:ZZ: coeff: 4, energy: -0.867408, probabilities: (0.0662962, 0.933704)\n",
      "INFO:vqefs.vqe:II: coeff: 1, energy: 1\n",
      "INFO:vqefs.vqe:XX: coeff: 2, energy: -0.531004, probabilities: (0.234498, 0.765502)\n",
      "INFO:vqefs.vqe:YY: coeff: 3, energy: -0.515062, probabilities: (0.242469, 0.757531)\n",
      "INFO:vqefs.vqe:ZZ: coeff: 4, energy: -0.867408, probabilities: (0.0662962, 0.933704)\n",
      "INFO:vqefs.vqe:II: coeff: 1, energy: 1\n",
      "INFO:vqefs.vqe:XX: coeff: 2, energy: -0.531004, probabilities: (0.234498, 0.765502)\n",
      "INFO:vqefs.vqe:YY: coeff: 3, energy: -0.515062, probabilities: (0.242469, 0.757531)\n",
      "INFO:vqefs.vqe:ZZ: coeff: 4, energy: -0.867408, probabilities: (0.0662962, 0.933704)\n",
      "INFO:vqefs.vqe:II: coeff: 1, energy: 1\n",
      "INFO:vqefs.vqe:XX: coeff: 2, energy: -0, probabilities: (0.5, 0.5)\n",
      "INFO:vqefs.vqe:YY: coeff: 3, energy: -0, probabilities: (0.5, 0.5)\n",
      "INFO:vqefs.vqe:ZZ: coeff: 4, energy: 1, probabilities: (1, 0)\n",
      "INFO:vqefs.vqe:II: coeff: 1, energy: 1\n",
      "INFO:vqefs.vqe:XX: coeff: 2, energy: 1e-08, probabilities: (0.5, 0.5)\n",
      "INFO:vqefs.vqe:YY: coeff: 3, energy: -1e-08, probabilities: (0.5, 0.5)\n"
     ]
    },
    {
     "name": "stderr",
     "output_type": "stream",
     "text": [
      "INFO:vqefs.vqe:ZZ: coeff: 4, energy: 1, probabilities: (1, 0)\n",
      "INFO:vqefs.vqe:II: coeff: 1, energy: 1\n",
      "INFO:vqefs.vqe:XX: coeff: 2, energy: -0, probabilities: (0.5, 0.5)\n",
      "INFO:vqefs.vqe:YY: coeff: 3, energy: -0, probabilities: (0.5, 0.5)\n",
      "INFO:vqefs.vqe:ZZ: coeff: 4, energy: 1, probabilities: (1, 0)\n",
      "INFO:vqefs.vqe:II: coeff: 1, energy: 1\n",
      "INFO:vqefs.vqe:XX: coeff: 2, energy: -0, probabilities: (0.5, 0.5)\n",
      "INFO:vqefs.vqe:YY: coeff: 3, energy: -0, probabilities: (0.5, 0.5)\n",
      "INFO:vqefs.vqe:ZZ: coeff: 4, energy: 1, probabilities: (1, 0)\n",
      "INFO:vqefs.vqe:II: coeff: 1, energy: 1\n",
      "INFO:vqefs.vqe:XX: coeff: 2, energy: -0, probabilities: (0.5, 0.5)\n",
      "INFO:vqefs.vqe:YY: coeff: 3, energy: -0, probabilities: (0.5, 0.5)\n",
      "INFO:vqefs.vqe:ZZ: coeff: 4, energy: 1, probabilities: (1, 0)\n",
      "INFO:vqefs.vqe:II: coeff: 1, energy: 1\n",
      "INFO:vqefs.vqe:XX: coeff: 2, energy: -0.739889, probabilities: (0.130055, 0.869945)\n",
      "INFO:vqefs.vqe:YY: coeff: 3, energy: -0.630937, probabilities: (0.184531, 0.815469)\n",
      "INFO:vqefs.vqe:ZZ: coeff: 4, energy: -0.748022, probabilities: (0.125989, 0.874011)\n",
      "INFO:vqefs.vqe:II: coeff: 1, energy: 1\n",
      "INFO:vqefs.vqe:XX: coeff: 2, energy: -0.739889, probabilities: (0.130055, 0.869945)\n",
      "INFO:vqefs.vqe:YY: coeff: 3, energy: -0.630937, probabilities: (0.184531, 0.815469)\n",
      "INFO:vqefs.vqe:ZZ: coeff: 4, energy: -0.748022, probabilities: (0.125989, 0.874011)\n",
      "INFO:vqefs.vqe:II: coeff: 1, energy: 1\n",
      "INFO:vqefs.vqe:XX: coeff: 2, energy: -0.739889, probabilities: (0.130055, 0.869945)\n",
      "INFO:vqefs.vqe:YY: coeff: 3, energy: -0.630937, probabilities: (0.184531, 0.815469)\n",
      "INFO:vqefs.vqe:ZZ: coeff: 4, energy: -0.748022, probabilities: (0.125989, 0.874011)\n",
      "INFO:vqefs.vqe:II: coeff: 1, energy: 1\n",
      "INFO:vqefs.vqe:XX: coeff: 2, energy: -0.739889, probabilities: (0.130055, 0.869945)\n",
      "INFO:vqefs.vqe:YY: coeff: 3, energy: -0.630937, probabilities: (0.184531, 0.815469)\n",
      "INFO:vqefs.vqe:ZZ: coeff: 4, energy: -0.748022, probabilities: (0.125989, 0.874011)\n",
      "INFO:vqefs.vqe:II: coeff: 1, energy: 1\n",
      "INFO:vqefs.vqe:XX: coeff: 2, energy: -0.739889, probabilities: (0.130055, 0.869945)\n",
      "INFO:vqefs.vqe:YY: coeff: 3, energy: -0.630937, probabilities: (0.184531, 0.815469)\n",
      "INFO:vqefs.vqe:ZZ: coeff: 4, energy: -0.748022, probabilities: (0.125989, 0.874011)\n",
      "INFO:vqefs.vqe:II: coeff: 1, energy: 1\n",
      "INFO:vqefs.vqe:XX: coeff: 2, energy: -0, probabilities: (0.5, 0.5)\n",
      "INFO:vqefs.vqe:YY: coeff: 3, energy: -0, probabilities: (0.5, 0.5)\n",
      "INFO:vqefs.vqe:ZZ: coeff: 4, energy: 1, probabilities: (1, 0)\n",
      "INFO:vqefs.vqe:II: coeff: 1, energy: 1\n",
      "INFO:vqefs.vqe:XX: coeff: 2, energy: 1e-08, probabilities: (0.5, 0.5)\n",
      "INFO:vqefs.vqe:YY: coeff: 3, energy: -1e-08, probabilities: (0.5, 0.5)\n",
      "INFO:vqefs.vqe:ZZ: coeff: 4, energy: 1, probabilities: (1, 0)\n",
      "INFO:vqefs.vqe:II: coeff: 1, energy: 1\n",
      "INFO:vqefs.vqe:XX: coeff: 2, energy: -0, probabilities: (0.5, 0.5)\n",
      "INFO:vqefs.vqe:YY: coeff: 3, energy: -0, probabilities: (0.5, 0.5)\n",
      "INFO:vqefs.vqe:ZZ: coeff: 4, energy: 1, probabilities: (1, 0)\n",
      "INFO:vqefs.vqe:II: coeff: 1, energy: 1\n",
      "INFO:vqefs.vqe:XX: coeff: 2, energy: -0, probabilities: (0.5, 0.5)\n",
      "INFO:vqefs.vqe:YY: coeff: 3, energy: -0, probabilities: (0.5, 0.5)\n",
      "INFO:vqefs.vqe:ZZ: coeff: 4, energy: 1, probabilities: (1, 0)\n",
      "INFO:vqefs.vqe:II: coeff: 1, energy: 1\n",
      "INFO:vqefs.vqe:XX: coeff: 2, energy: -0, probabilities: (0.5, 0.5)\n",
      "INFO:vqefs.vqe:YY: coeff: 3, energy: -0, probabilities: (0.5, 0.5)\n",
      "INFO:vqefs.vqe:ZZ: coeff: 4, energy: 1, probabilities: (1, 0)\n",
      "INFO:vqefs.vqe:II: coeff: 1, energy: 1\n",
      "INFO:vqefs.vqe:XX: coeff: 2, energy: -0.59736, probabilities: (0.20132, 0.79868)\n",
      "INFO:vqefs.vqe:YY: coeff: 3, energy: -0.842142, probabilities: (0.078929, 0.921071)\n",
      "INFO:vqefs.vqe:ZZ: coeff: 4, energy: -0.607822, probabilities: (0.196089, 0.803911)\n",
      "INFO:vqefs.vqe:II: coeff: 1, energy: 1\n",
      "INFO:vqefs.vqe:XX: coeff: 2, energy: -0.59736, probabilities: (0.20132, 0.79868)\n",
      "INFO:vqefs.vqe:YY: coeff: 3, energy: -0.842142, probabilities: (0.078929, 0.921071)\n",
      "INFO:vqefs.vqe:ZZ: coeff: 4, energy: -0.607822, probabilities: (0.196089, 0.803911)\n",
      "INFO:vqefs.vqe:II: coeff: 1, energy: 1\n",
      "INFO:vqefs.vqe:XX: coeff: 2, energy: -0.59736, probabilities: (0.20132, 0.79868)\n",
      "INFO:vqefs.vqe:YY: coeff: 3, energy: -0.842142, probabilities: (0.078929, 0.921071)\n",
      "INFO:vqefs.vqe:ZZ: coeff: 4, energy: -0.607822, probabilities: (0.196089, 0.803911)\n",
      "INFO:vqefs.vqe:II: coeff: 1, energy: 1\n",
      "INFO:vqefs.vqe:XX: coeff: 2, energy: -0.59736, probabilities: (0.20132, 0.79868)\n",
      "INFO:vqefs.vqe:YY: coeff: 3, energy: -0.842142, probabilities: (0.078929, 0.921071)\n",
      "INFO:vqefs.vqe:ZZ: coeff: 4, energy: -0.607822, probabilities: (0.196089, 0.803911)\n",
      "INFO:vqefs.vqe:II: coeff: 1, energy: 1\n",
      "INFO:vqefs.vqe:XX: coeff: 2, energy: -0.59736, probabilities: (0.20132, 0.79868)\n",
      "INFO:vqefs.vqe:YY: coeff: 3, energy: -0.842142, probabilities: (0.078929, 0.921071)\n",
      "INFO:vqefs.vqe:ZZ: coeff: 4, energy: -0.607822, probabilities: (0.196089, 0.803911)\n",
      "INFO:vqefs.vqe:II: coeff: 1, energy: 1\n",
      "INFO:vqefs.vqe:XX: coeff: 2, energy: -0.733999, probabilities: (0.133, 0.867)\n",
      "INFO:vqefs.vqe:YY: coeff: 3, energy: -0.740705, probabilities: (0.129647, 0.870353)\n",
      "INFO:vqefs.vqe:ZZ: coeff: 4, energy: -0.714959, probabilities: (0.14252, 0.85748)\n",
      "INFO:vqefs.vqe:II: coeff: 1, energy: 1\n",
      "INFO:vqefs.vqe:XX: coeff: 2, energy: -0.733999, probabilities: (0.133, 0.867)\n",
      "INFO:vqefs.vqe:YY: coeff: 3, energy: -0.740705, probabilities: (0.129647, 0.870353)\n",
      "INFO:vqefs.vqe:ZZ: coeff: 4, energy: -0.714959, probabilities: (0.14252, 0.85748)\n",
      "INFO:vqefs.vqe:II: coeff: 1, energy: 1\n",
      "INFO:vqefs.vqe:XX: coeff: 2, energy: -0.733999, probabilities: (0.133, 0.867)\n",
      "INFO:vqefs.vqe:YY: coeff: 3, energy: -0.740705, probabilities: (0.129647, 0.870353)\n",
      "INFO:vqefs.vqe:ZZ: coeff: 4, energy: -0.714959, probabilities: (0.14252, 0.85748)\n",
      "INFO:vqefs.vqe:II: coeff: 1, energy: 1\n",
      "INFO:vqefs.vqe:XX: coeff: 2, energy: -0.733999, probabilities: (0.133, 0.867)\n",
      "INFO:vqefs.vqe:YY: coeff: 3, energy: -0.740705, probabilities: (0.129647, 0.870353)\n",
      "INFO:vqefs.vqe:ZZ: coeff: 4, energy: -0.714959, probabilities: (0.14252, 0.85748)\n",
      "INFO:vqefs.vqe:II: coeff: 1, energy: 1\n",
      "INFO:vqefs.vqe:XX: coeff: 2, energy: -0.733999, probabilities: (0.133, 0.867)\n",
      "INFO:vqefs.vqe:YY: coeff: 3, energy: -0.740705, probabilities: (0.129647, 0.870353)\n",
      "INFO:vqefs.vqe:ZZ: coeff: 4, energy: -0.714959, probabilities: (0.14252, 0.85748)\n",
      "INFO:vqefs.vqe:II: coeff: 1, energy: 1\n",
      "INFO:vqefs.vqe:XX: coeff: 2, energy: -0, probabilities: (0.5, 0.5)\n",
      "INFO:vqefs.vqe:YY: coeff: 3, energy: -0, probabilities: (0.5, 0.5)\n",
      "INFO:vqefs.vqe:ZZ: coeff: 4, energy: -0.800709, probabilities: (0.0996456, 0.900354)\n",
      "INFO:vqefs.vqe:II: coeff: 1, energy: 1\n",
      "INFO:vqefs.vqe:XX: coeff: 2, energy: -1.92156e-10, probabilities: (0.5, 0.5)\n",
      "INFO:vqefs.vqe:YY: coeff: 3, energy: -9.13384e-10, probabilities: (0.5, 0.5)\n",
      "INFO:vqefs.vqe:ZZ: coeff: 4, energy: -0.800709, probabilities: (0.0996456, 0.900354)\n",
      "INFO:vqefs.vqe:II: coeff: 1, energy: 1\n",
      "INFO:vqefs.vqe:XX: coeff: 2, energy: -0, probabilities: (0.5, 0.5)\n",
      "INFO:vqefs.vqe:YY: coeff: 3, energy: -0, probabilities: (0.5, 0.5)\n",
      "INFO:vqefs.vqe:ZZ: coeff: 4, energy: -0.800709, probabilities: (0.0996456, 0.900354)\n",
      "INFO:vqefs.vqe:II: coeff: 1, energy: 1\n",
      "INFO:vqefs.vqe:XX: coeff: 2, energy: -0, probabilities: (0.5, 0.5)\n",
      "INFO:vqefs.vqe:YY: coeff: 3, energy: -0, probabilities: (0.5, 0.5)\n",
      "INFO:vqefs.vqe:ZZ: coeff: 4, energy: -0.800709, probabilities: (0.0996456, 0.900354)\n",
      "INFO:vqefs.vqe:II: coeff: 1, energy: 1\n",
      "INFO:vqefs.vqe:XX: coeff: 2, energy: -0, probabilities: (0.5, 0.5)\n",
      "INFO:vqefs.vqe:YY: coeff: 3, energy: -0, probabilities: (0.5, 0.5)\n",
      "INFO:vqefs.vqe:ZZ: coeff: 4, energy: -0.800709, probabilities: (0.0996456, 0.900354)\n",
      "INFO:vqefs.vqe:II: coeff: 1, energy: 1\n",
      "INFO:vqefs.vqe:XX: coeff: 2, energy: -0.784727, probabilities: (0.107636, 0.892364)\n",
      "INFO:vqefs.vqe:YY: coeff: 3, energy: -0.827988, probabilities: (0.086006, 0.913994)\n",
      "INFO:vqefs.vqe:ZZ: coeff: 4, energy: -0.668169, probabilities: (0.165916, 0.834084)\n",
      "INFO:vqefs.vqe:II: coeff: 1, energy: 1\n",
      "INFO:vqefs.vqe:XX: coeff: 2, energy: -0.784727, probabilities: (0.107636, 0.892364)\n",
      "INFO:vqefs.vqe:YY: coeff: 3, energy: -0.827988, probabilities: (0.086006, 0.913994)\n",
      "INFO:vqefs.vqe:ZZ: coeff: 4, energy: -0.668169, probabilities: (0.165916, 0.834084)\n",
      "INFO:vqefs.vqe:II: coeff: 1, energy: 1\n",
      "INFO:vqefs.vqe:XX: coeff: 2, energy: -0.784727, probabilities: (0.107636, 0.892364)\n"
     ]
    },
    {
     "name": "stderr",
     "output_type": "stream",
     "text": [
      "INFO:vqefs.vqe:YY: coeff: 3, energy: -0.827988, probabilities: (0.086006, 0.913994)\n",
      "INFO:vqefs.vqe:ZZ: coeff: 4, energy: -0.668169, probabilities: (0.165916, 0.834084)\n",
      "INFO:vqefs.vqe:II: coeff: 1, energy: 1\n",
      "INFO:vqefs.vqe:XX: coeff: 2, energy: -0.784727, probabilities: (0.107636, 0.892364)\n",
      "INFO:vqefs.vqe:YY: coeff: 3, energy: -0.827988, probabilities: (0.086006, 0.913994)\n",
      "INFO:vqefs.vqe:ZZ: coeff: 4, energy: -0.668169, probabilities: (0.165916, 0.834084)\n",
      "INFO:vqefs.vqe:II: coeff: 1, energy: 1\n",
      "INFO:vqefs.vqe:XX: coeff: 2, energy: -0.784727, probabilities: (0.107636, 0.892364)\n",
      "INFO:vqefs.vqe:YY: coeff: 3, energy: -0.827988, probabilities: (0.086006, 0.913994)\n",
      "INFO:vqefs.vqe:ZZ: coeff: 4, energy: -0.668169, probabilities: (0.165916, 0.834084)\n",
      "INFO:vqefs.vqe:II: coeff: 1, energy: 1\n",
      "INFO:vqefs.vqe:XX: coeff: 2, energy: -0.896547, probabilities: (0.0517264, 0.948274)\n",
      "INFO:vqefs.vqe:YY: coeff: 3, energy: -0.924966, probabilities: (0.0375168, 0.962483)\n",
      "INFO:vqefs.vqe:ZZ: coeff: 4, energy: -0.853488, probabilities: (0.0732562, 0.926744)\n",
      "INFO:vqefs.vqe:II: coeff: 1, energy: 1\n",
      "INFO:vqefs.vqe:XX: coeff: 2, energy: -0.896547, probabilities: (0.0517264, 0.948274)\n",
      "INFO:vqefs.vqe:YY: coeff: 3, energy: -0.924966, probabilities: (0.0375168, 0.962483)\n",
      "INFO:vqefs.vqe:ZZ: coeff: 4, energy: -0.853488, probabilities: (0.0732562, 0.926744)\n",
      "INFO:vqefs.vqe:II: coeff: 1, energy: 1\n",
      "INFO:vqefs.vqe:XX: coeff: 2, energy: -0.896547, probabilities: (0.0517264, 0.948274)\n",
      "INFO:vqefs.vqe:YY: coeff: 3, energy: -0.924966, probabilities: (0.0375168, 0.962483)\n",
      "INFO:vqefs.vqe:ZZ: coeff: 4, energy: -0.853488, probabilities: (0.0732562, 0.926744)\n",
      "INFO:vqefs.vqe:II: coeff: 1, energy: 1\n",
      "INFO:vqefs.vqe:XX: coeff: 2, energy: -0.896547, probabilities: (0.0517264, 0.948274)\n",
      "INFO:vqefs.vqe:YY: coeff: 3, energy: -0.924966, probabilities: (0.0375168, 0.962483)\n",
      "INFO:vqefs.vqe:ZZ: coeff: 4, energy: -0.853488, probabilities: (0.0732562, 0.926744)\n",
      "INFO:vqefs.vqe:II: coeff: 1, energy: 1\n",
      "INFO:vqefs.vqe:XX: coeff: 2, energy: -0.896547, probabilities: (0.0517264, 0.948274)\n",
      "INFO:vqefs.vqe:YY: coeff: 3, energy: -0.924966, probabilities: (0.0375168, 0.962483)\n",
      "INFO:vqefs.vqe:ZZ: coeff: 4, energy: -0.853488, probabilities: (0.0732562, 0.926744)\n",
      "INFO:vqefs.vqe:II: coeff: 1, energy: 1\n",
      "INFO:vqefs.vqe:XX: coeff: 2, energy: -0.994773, probabilities: (0.00261351, 0.997386)\n",
      "INFO:vqefs.vqe:YY: coeff: 3, energy: -0.994271, probabilities: (0.00286448, 0.997136)\n",
      "INFO:vqefs.vqe:ZZ: coeff: 4, energy: -0.999495, probabilities: (0.000252291, 0.999748)\n",
      "INFO:vqefs.vqe:II: coeff: 1, energy: 1\n",
      "INFO:vqefs.vqe:XX: coeff: 2, energy: -0.994773, probabilities: (0.00261351, 0.997386)\n",
      "INFO:vqefs.vqe:YY: coeff: 3, energy: -0.994271, probabilities: (0.00286448, 0.997136)\n",
      "INFO:vqefs.vqe:ZZ: coeff: 4, energy: -0.999495, probabilities: (0.000252291, 0.999748)\n",
      "INFO:vqefs.vqe:II: coeff: 1, energy: 1\n",
      "INFO:vqefs.vqe:XX: coeff: 2, energy: -0.994773, probabilities: (0.00261351, 0.997386)\n",
      "INFO:vqefs.vqe:YY: coeff: 3, energy: -0.994271, probabilities: (0.00286448, 0.997136)\n",
      "INFO:vqefs.vqe:ZZ: coeff: 4, energy: -0.999495, probabilities: (0.000252291, 0.999748)\n",
      "INFO:vqefs.vqe:II: coeff: 1, energy: 1\n",
      "INFO:vqefs.vqe:XX: coeff: 2, energy: -0.994773, probabilities: (0.00261351, 0.997386)\n",
      "INFO:vqefs.vqe:YY: coeff: 3, energy: -0.994271, probabilities: (0.00286448, 0.997136)\n",
      "INFO:vqefs.vqe:ZZ: coeff: 4, energy: -0.999495, probabilities: (0.000252291, 0.999748)\n",
      "INFO:vqefs.vqe:II: coeff: 1, energy: 1\n",
      "INFO:vqefs.vqe:XX: coeff: 2, energy: -0.994773, probabilities: (0.00261351, 0.997386)\n",
      "INFO:vqefs.vqe:YY: coeff: 3, energy: -0.994271, probabilities: (0.00286448, 0.997136)\n",
      "INFO:vqefs.vqe:ZZ: coeff: 4, energy: -0.999495, probabilities: (0.000252291, 0.999748)\n",
      "INFO:vqefs.vqe:II: coeff: 1, energy: 1\n",
      "INFO:vqefs.vqe:XX: coeff: 2, energy: -0.996985, probabilities: (0.0015076, 0.998492)\n",
      "INFO:vqefs.vqe:YY: coeff: 3, energy: -0.996288, probabilities: (0.00185585, 0.998144)\n",
      "INFO:vqefs.vqe:ZZ: coeff: 4, energy: -0.999253, probabilities: (0.000373275, 0.999627)\n",
      "INFO:vqefs.vqe:II: coeff: 1, energy: 1\n",
      "INFO:vqefs.vqe:XX: coeff: 2, energy: -0.996985, probabilities: (0.0015076, 0.998492)\n",
      "INFO:vqefs.vqe:YY: coeff: 3, energy: -0.996288, probabilities: (0.00185585, 0.998144)\n",
      "INFO:vqefs.vqe:ZZ: coeff: 4, energy: -0.999253, probabilities: (0.000373275, 0.999627)\n",
      "INFO:vqefs.vqe:II: coeff: 1, energy: 1\n",
      "INFO:vqefs.vqe:XX: coeff: 2, energy: -0.996985, probabilities: (0.0015076, 0.998492)\n",
      "INFO:vqefs.vqe:YY: coeff: 3, energy: -0.996288, probabilities: (0.00185585, 0.998144)\n",
      "INFO:vqefs.vqe:ZZ: coeff: 4, energy: -0.999253, probabilities: (0.000373275, 0.999627)\n",
      "INFO:vqefs.vqe:II: coeff: 1, energy: 1\n",
      "INFO:vqefs.vqe:XX: coeff: 2, energy: -0.996985, probabilities: (0.0015076, 0.998492)\n",
      "INFO:vqefs.vqe:YY: coeff: 3, energy: -0.996288, probabilities: (0.00185585, 0.998144)\n",
      "INFO:vqefs.vqe:ZZ: coeff: 4, energy: -0.999253, probabilities: (0.000373275, 0.999627)\n",
      "INFO:vqefs.vqe:II: coeff: 1, energy: 1\n",
      "INFO:vqefs.vqe:XX: coeff: 2, energy: -0.996985, probabilities: (0.0015076, 0.998492)\n",
      "INFO:vqefs.vqe:YY: coeff: 3, energy: -0.996288, probabilities: (0.00185585, 0.998144)\n",
      "INFO:vqefs.vqe:ZZ: coeff: 4, energy: -0.999253, probabilities: (0.000373275, 0.999627)\n",
      "INFO:vqefs.vqe:II: coeff: 1, energy: 1\n",
      "INFO:vqefs.vqe:XX: coeff: 2, energy: -0.999987, probabilities: (6.3192e-06, 0.999994)\n",
      "INFO:vqefs.vqe:YY: coeff: 3, energy: -0.999997, probabilities: (1.71971e-06, 0.999998)\n",
      "INFO:vqefs.vqe:ZZ: coeff: 4, energy: -0.99999, probabilities: (4.93169e-06, 0.999995)\n",
      "INFO:vqefs.vqe:II: coeff: 1, energy: 1\n",
      "INFO:vqefs.vqe:XX: coeff: 2, energy: -0.999987, probabilities: (6.3192e-06, 0.999994)\n",
      "INFO:vqefs.vqe:YY: coeff: 3, energy: -0.999997, probabilities: (1.71971e-06, 0.999998)\n",
      "INFO:vqefs.vqe:ZZ: coeff: 4, energy: -0.99999, probabilities: (4.93169e-06, 0.999995)\n",
      "INFO:vqefs.vqe:II: coeff: 1, energy: 1\n",
      "INFO:vqefs.vqe:XX: coeff: 2, energy: -0.999987, probabilities: (6.3192e-06, 0.999994)\n",
      "INFO:vqefs.vqe:YY: coeff: 3, energy: -0.999997, probabilities: (1.71971e-06, 0.999998)\n",
      "INFO:vqefs.vqe:ZZ: coeff: 4, energy: -0.99999, probabilities: (4.9317e-06, 0.999995)\n",
      "INFO:vqefs.vqe:II: coeff: 1, energy: 1\n",
      "INFO:vqefs.vqe:XX: coeff: 2, energy: -0.999987, probabilities: (6.31921e-06, 0.999994)\n",
      "INFO:vqefs.vqe:YY: coeff: 3, energy: -0.999997, probabilities: (1.71972e-06, 0.999998)\n",
      "INFO:vqefs.vqe:ZZ: coeff: 4, energy: -0.99999, probabilities: (4.93169e-06, 0.999995)\n",
      "INFO:vqefs.vqe:II: coeff: 1, energy: 1\n",
      "INFO:vqefs.vqe:XX: coeff: 2, energy: -0.999987, probabilities: (6.31918e-06, 0.999994)\n",
      "INFO:vqefs.vqe:YY: coeff: 3, energy: -0.999997, probabilities: (1.71971e-06, 0.999998)\n",
      "INFO:vqefs.vqe:ZZ: coeff: 4, energy: -0.99999, probabilities: (4.93167e-06, 0.999995)\n",
      "INFO:vqefs.vqe:II: coeff: 1, energy: 1\n",
      "INFO:vqefs.vqe:XX: coeff: 2, energy: -0.999999, probabilities: (3.38413e-07, 1)\n",
      "INFO:vqefs.vqe:YY: coeff: 3, energy: -0.999999, probabilities: (7.42195e-07, 0.999999)\n",
      "INFO:vqefs.vqe:ZZ: coeff: 4, energy: -0.999999, probabilities: (4.03782e-07, 1)\n",
      "INFO:vqefs.vqe:II: coeff: 1, energy: 1\n",
      "INFO:vqefs.vqe:XX: coeff: 2, energy: -0.999999, probabilities: (3.38408e-07, 1)\n",
      "INFO:vqefs.vqe:YY: coeff: 3, energy: -0.999999, probabilities: (7.4219e-07, 0.999999)\n",
      "INFO:vqefs.vqe:ZZ: coeff: 4, energy: -0.999999, probabilities: (4.03782e-07, 1)\n",
      "INFO:vqefs.vqe:II: coeff: 1, energy: 1\n",
      "INFO:vqefs.vqe:XX: coeff: 2, energy: -0.999999, probabilities: (3.38413e-07, 1)\n",
      "INFO:vqefs.vqe:YY: coeff: 3, energy: -0.999999, probabilities: (7.42188e-07, 0.999999)\n",
      "INFO:vqefs.vqe:ZZ: coeff: 4, energy: -0.999999, probabilities: (4.03775e-07, 1)\n",
      "INFO:vqefs.vqe:II: coeff: 1, energy: 1\n",
      "INFO:vqefs.vqe:XX: coeff: 2, energy: -0.999999, probabilities: (3.3841e-07, 1)\n",
      "INFO:vqefs.vqe:YY: coeff: 3, energy: -0.999999, probabilities: (7.42192e-07, 0.999999)\n",
      "INFO:vqefs.vqe:ZZ: coeff: 4, energy: -0.999999, probabilities: (4.03782e-07, 1)\n",
      "INFO:vqefs.vqe:II: coeff: 1, energy: 1\n",
      "INFO:vqefs.vqe:XX: coeff: 2, energy: -0.999999, probabilities: (3.38413e-07, 1)\n",
      "INFO:vqefs.vqe:YY: coeff: 3, energy: -0.999999, probabilities: (7.42195e-07, 0.999999)\n",
      "INFO:vqefs.vqe:ZZ: coeff: 4, energy: -0.999999, probabilities: (4.03782e-07, 1)\n",
      "INFO:vqefs.vqe:II: coeff: 1, energy: 1\n",
      "INFO:vqefs.vqe:XX: coeff: 2, energy: -1, probabilities: (1.85623e-09, 1)\n"
     ]
    },
    {
     "name": "stderr",
     "output_type": "stream",
     "text": [
      "INFO:vqefs.vqe:YY: coeff: 3, energy: -1, probabilities: (2.39356e-09, 1)\n",
      "INFO:vqefs.vqe:ZZ: coeff: 4, energy: -1, probabilities: (5.37329e-10, 1)\n",
      "INFO:vqefs.vqe:II: coeff: 1, energy: 1\n",
      "INFO:vqefs.vqe:XX: coeff: 2, energy: -1, probabilities: (1.8559e-09, 1)\n",
      "INFO:vqefs.vqe:YY: coeff: 3, energy: -1, probabilities: (2.39322e-09, 1)\n",
      "INFO:vqefs.vqe:ZZ: coeff: 4, energy: -1, probabilities: (5.37329e-10, 1)\n",
      "INFO:vqefs.vqe:II: coeff: 1, energy: 1\n",
      "INFO:vqefs.vqe:XX: coeff: 2, energy: -1, probabilities: (1.85623e-09, 1)\n",
      "INFO:vqefs.vqe:YY: coeff: 3, energy: -1, probabilities: (2.39333e-09, 1)\n",
      "INFO:vqefs.vqe:ZZ: coeff: 4, energy: -1, probabilities: (5.37097e-10, 1)\n",
      "INFO:vqefs.vqe:II: coeff: 1, energy: 1\n",
      "INFO:vqefs.vqe:XX: coeff: 2, energy: -1, probabilities: (1.85597e-09, 1)\n",
      "INFO:vqefs.vqe:YY: coeff: 3, energy: -1, probabilities: (2.3933e-09, 1)\n",
      "INFO:vqefs.vqe:ZZ: coeff: 4, energy: -1, probabilities: (5.37329e-10, 1)\n",
      "INFO:vqefs.vqe:II: coeff: 1, energy: 1\n",
      "INFO:vqefs.vqe:XX: coeff: 2, energy: -1, probabilities: (1.85623e-09, 1)\n",
      "INFO:vqefs.vqe:YY: coeff: 3, energy: -1, probabilities: (2.39356e-09, 1)\n",
      "INFO:vqefs.vqe:ZZ: coeff: 4, energy: -1, probabilities: (5.37329e-10, 1)\n",
      "INFO:vqefs.vqe:II: coeff: 1, energy: 1\n",
      "INFO:vqefs.vqe:XX: coeff: 2, energy: -1, probabilities: (6.22824e-11, 1)\n",
      "INFO:vqefs.vqe:YY: coeff: 3, energy: -1, probabilities: (6.717e-11, 1)\n",
      "INFO:vqefs.vqe:ZZ: coeff: 4, energy: -1, probabilities: (4.88755e-12, 1)\n",
      "INFO:vqefs.vqe:II: coeff: 1, energy: 1\n",
      "INFO:vqefs.vqe:XX: coeff: 2, energy: -1, probabilities: (6.22799e-11, 1)\n",
      "INFO:vqefs.vqe:YY: coeff: 3, energy: -1, probabilities: (6.71674e-11, 1)\n",
      "INFO:vqefs.vqe:ZZ: coeff: 4, energy: -1, probabilities: (4.88755e-12, 1)\n",
      "INFO:vqefs.vqe:II: coeff: 1, energy: 1\n",
      "INFO:vqefs.vqe:XX: coeff: 2, energy: -1, probabilities: (6.22824e-11, 1)\n",
      "INFO:vqefs.vqe:YY: coeff: 3, energy: -1, probabilities: (6.71479e-11, 1)\n",
      "INFO:vqefs.vqe:ZZ: coeff: 4, energy: -1, probabilities: (4.86546e-12, 1)\n",
      "INFO:vqefs.vqe:II: coeff: 1, energy: 1\n",
      "INFO:vqefs.vqe:XX: coeff: 2, energy: -1, probabilities: (6.23613e-11, 1)\n",
      "INFO:vqefs.vqe:YY: coeff: 3, energy: -1, probabilities: (6.72489e-11, 1)\n",
      "INFO:vqefs.vqe:ZZ: coeff: 4, energy: -1, probabilities: (4.88755e-12, 1)\n",
      "INFO:vqefs.vqe:II: coeff: 1, energy: 1\n",
      "INFO:vqefs.vqe:XX: coeff: 2, energy: -1, probabilities: (6.22825e-11, 1)\n",
      "INFO:vqefs.vqe:YY: coeff: 3, energy: -1, probabilities: (6.717e-11, 1)\n",
      "INFO:vqefs.vqe:ZZ: coeff: 4, energy: -1, probabilities: (4.88757e-12, 1)\n",
      "INFO:vqefs.vqe:II: coeff: 1, energy: 1\n",
      "INFO:vqefs.vqe:XX: coeff: 2, energy: -1, probabilities: (7.37082e-12, 1)\n",
      "INFO:vqefs.vqe:YY: coeff: 3, energy: -1, probabilities: (9.92625e-12, 1)\n",
      "INFO:vqefs.vqe:ZZ: coeff: 4, energy: -1, probabilities: (2.55542e-12, 1)\n",
      "INFO:vqefs.vqe:II: coeff: 1, energy: 1\n",
      "INFO:vqefs.vqe:XX: coeff: 2, energy: -1, probabilities: (7.38244e-12, 1)\n",
      "INFO:vqefs.vqe:YY: coeff: 3, energy: -1, probabilities: (9.93786e-12, 1)\n",
      "INFO:vqefs.vqe:ZZ: coeff: 4, energy: -1, probabilities: (2.55542e-12, 1)\n",
      "INFO:vqefs.vqe:II: coeff: 1, energy: 1\n",
      "INFO:vqefs.vqe:XX: coeff: 2, energy: -1, probabilities: (7.37082e-12, 1)\n",
      "INFO:vqefs.vqe:YY: coeff: 3, energy: -1, probabilities: (9.94226e-12, 1)\n",
      "INFO:vqefs.vqe:ZZ: coeff: 4, energy: -1, probabilities: (2.57143e-12, 1)\n",
      "INFO:vqefs.vqe:II: coeff: 1, energy: 1\n",
      "INFO:vqefs.vqe:XX: coeff: 2, energy: -1, probabilities: (7.3463e-12, 1)\n",
      "INFO:vqefs.vqe:YY: coeff: 3, energy: -1, probabilities: (9.90172e-12, 1)\n",
      "INFO:vqefs.vqe:ZZ: coeff: 4, energy: -1, probabilities: (2.55542e-12, 1)\n",
      "INFO:vqefs.vqe:II: coeff: 1, energy: 1\n",
      "INFO:vqefs.vqe:XX: coeff: 2, energy: -1, probabilities: (7.37085e-12, 1)\n",
      "INFO:vqefs.vqe:YY: coeff: 3, energy: -1, probabilities: (9.92625e-12, 1)\n",
      "INFO:vqefs.vqe:ZZ: coeff: 4, energy: -1, probabilities: (2.55545e-12, 1)\n"
     ]
    },
    {
     "data": {
      "text/plain": [
       "      fun: -7.9999999998905125\n",
       " hess_inv: <4x4 LbfgsInvHessProduct with dtype=float64>\n",
       "      jac: array([ 1.17239552e-05,  2.23820962e-05, -2.45137244e-05, -1.77635685e-07])\n",
       "  message: b'CONVERGENCE: REL_REDUCTION_OF_F_<=_FACTR*EPSMCH'\n",
       "     nfev: 130\n",
       "      nit: 15\n",
       "     njev: 26\n",
       "   status: 0\n",
       "  success: True\n",
       "        x: array([ 1.57079864e+00,  3.19713855e-06, -4.91044301e-06,  3.14159265e+00])"
      ]
     },
     "execution_count": 34,
     "metadata": {},
     "output_type": "execute_result"
    }
   ],
   "source": [
    "# set to analytical=True to use exact outcome probabilitites, set to False to simulate outcomes\n",
    "analytical = True\n",
    "\n",
    "def h2d_energy(x):\n",
    "    theta1, theta2, theta3, theta4 = x\n",
    "    ansatz_circuit = h2d_ansatz(theta1, theta2, theta3, theta4)\n",
    "    energy = vqefs.vqe.estimate_energy(\n",
    "        h2d_coeffs, h2d_measurement_circuits,\n",
    "        h2d_initial_state, ansatz_circuit,\n",
    "        shots=200, analytical=analytical\n",
    "    )\n",
    "    return energy\n",
    "\n",
    "result = scipy.optimize.minimize(\n",
    "    h2d_energy, x0=(math.pi / 4, math.pi / 4, math.pi / 4, math.pi / 4),\n",
    "    bounds=[(-math.pi, math.pi)] * 4,\n",
    "    options={\"maxiter\": 20, \"disp\": True},\n",
    ")\n",
    "result"
   ]
  },
  {
   "cell_type": "code",
   "execution_count": 35,
   "metadata": {},
   "outputs": [
    {
     "name": "stdout",
     "output_type": "stream",
     "text": [
      "minimum energy: -7.9999999998905125\n",
      "best theta: [ 1.57079864e+00  3.19713855e-06 -4.91044301e-06  3.14159265e+00]\n"
     ]
    }
   ],
   "source": [
    "print(f\"minimum energy: {result.fun}\")\n",
    "print(f\"best theta: {result.x}\")"
   ]
  },
  {
   "cell_type": "code",
   "execution_count": 36,
   "metadata": {},
   "outputs": [
    {
     "data": {
      "text/latex": [
       "Quantum object: dims = [[2, 2], [1, 1]], shape = (4, 1), type = ket\\begin{equation*}\\left(\\begin{array}{*{11}c}(-1.130\\times10^{-06}-2.775\\times10^{-12}j)\\\\(0.707+1.736\\times10^{-06}j)\\\\(-0.707+1.736\\times10^{-06}j)\\\\(1.130\\times10^{-06}-2.775\\times10^{-12}j)\\\\\\end{array}\\right)\\end{equation*}"
      ],
      "text/plain": [
       "Quantum object: dims = [[2, 2], [1, 1]], shape = (4, 1), type = ket\n",
       "Qobj data =\n",
       "[[-1.13035786e-06-2.77527894e-12j]\n",
       " [ 7.07105962e-01+1.73610176e-06j]\n",
       " [-7.07107601e-01+1.73610579e-06j]\n",
       " [ 1.13036048e-06-2.77528537e-12j]]"
      ]
     },
     "execution_count": 36,
     "metadata": {},
     "output_type": "execute_result"
    }
   ],
   "source": [
    "# display final state\n",
    "h2d_ansatz(*result.x).run(h2d_initial_state)[0]"
   ]
  },
  {
   "cell_type": "code",
   "execution_count": 37,
   "metadata": {},
   "outputs": [
    {
     "data": {
      "text/plain": [
       "(array([-8.,  2.,  4.,  6.]),\n",
       " array([Quantum object: dims = [[2, 2], [1, 1]], shape = (4, 1), type = ket\n",
       " Qobj data =\n",
       " [[ 0.        ]\n",
       "  [-0.70710678]\n",
       "  [ 0.70710678]\n",
       "  [ 0.        ]],\n",
       "        Quantum object: dims = [[2, 2], [1, 1]], shape = (4, 1), type = ket\n",
       " Qobj data =\n",
       " [[0.        ]\n",
       "  [0.70710678]\n",
       "  [0.70710678]\n",
       "  [0.        ]],\n",
       "        Quantum object: dims = [[2, 2], [1, 1]], shape = (4, 1), type = ket\n",
       " Qobj data =\n",
       " [[0.70710678]\n",
       "  [0.        ]\n",
       "  [0.        ]\n",
       "  [0.70710678]],\n",
       "        Quantum object: dims = [[2, 2], [1, 1]], shape = (4, 1), type = ket\n",
       " Qobj data =\n",
       " [[-0.70710678]\n",
       "  [ 0.        ]\n",
       "  [ 0.        ]\n",
       "  [ 0.70710678]]], dtype=object))"
      ]
     },
     "execution_count": 37,
     "metadata": {},
     "output_type": "execute_result"
    }
   ],
   "source": [
    "h2d.eigenstates()"
   ]
  }
 ],
 "metadata": {
  "jupytext": {
   "formats": "ipynb,md"
  },
  "kernelspec": {
   "display_name": "Python 3",
   "language": "python",
   "name": "python3"
  },
  "language_info": {
   "codemirror_mode": {
    "name": "ipython",
    "version": 3
   },
   "file_extension": ".py",
   "mimetype": "text/x-python",
   "name": "python",
   "nbconvert_exporter": "python",
   "pygments_lexer": "ipython3",
   "version": "3.8.2"
  }
 },
 "nbformat": 4,
 "nbformat_minor": 4
}
